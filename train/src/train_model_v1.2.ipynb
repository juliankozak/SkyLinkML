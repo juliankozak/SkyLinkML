{
 "cells": [
  {
   "cell_type": "markdown",
   "metadata": {
    "id": "XRRIKxNUhnts"
   },
   "source": [
    "**Train the model on GPU in Google Colab and save the state dictionary to Google Drive**\n",
    "\n",
    "\n"
   ]
  },
  {
   "cell_type": "markdown",
   "metadata": {
    "id": "IFA6S8IATg8I"
   },
   "source": [
    "**Source: Torchvision Finetuning instance segmentation model Tutorial:**\n",
    "\n",
    "https://colab.research.google.com/github/pytorch/vision/blob/temp-tutorial/tutorials/torchvision_finetuning_instance_segmentation.ipynb#scrollTo=at-h4OWK0aoc\n"
   ]
  },
  {
   "cell_type": "code",
   "execution_count": 1,
   "metadata": {
    "colab": {
     "base_uri": "https://localhost:8080/"
    },
    "executionInfo": {
     "elapsed": 14148,
     "status": "ok",
     "timestamp": 1618752103941,
     "user": {
      "displayName": "Julian Kozak",
      "photoUrl": "",
      "userId": "07976158460920386367"
     },
     "user_tz": -120
    },
    "id": "VavNsQWB1vja",
    "outputId": "f098aa23-89ff-48a5-9dd8-c63dc0361a81"
   },
   "outputs": [
    {
     "name": "stderr",
     "output_type": "stream",
     "text": [
      "UsageError: Cell magic `%%shell` not found.\n"
     ]
    }
   ],
   "source": [
    "%%shell\n",
    "\n",
    "pip install cython\n",
    "# Install pycocotools, the version by default in Colab has a bug fixed in https://github.com/cocodataset/cocoapi/pull/354\n",
    "pip install -U 'git+https://github.com/cocodataset/cocoapi.git#subdirectory=PythonAPI'"
   ]
  },
  {
   "cell_type": "code",
   "execution_count": 2,
   "metadata": {
    "colab": {
     "base_uri": "https://localhost:8080/"
    },
    "executionInfo": {
     "elapsed": 33863,
     "status": "ok",
     "timestamp": 1618752123666,
     "user": {
      "displayName": "Julian Kozak",
      "photoUrl": "",
      "userId": "07976158460920386367"
     },
     "user_tz": -120
    },
    "id": "47I6o6JZla1d",
    "outputId": "498fda9b-b8ff-4122-a4ae-4faffaa27957"
   },
   "outputs": [
    {
     "name": "stdout",
     "output_type": "stream",
     "text": [
      "Mounted at /content/gdrive\n"
     ]
    }
   ],
   "source": [
    "from google.colab import drive\n",
    "drive.mount('/content/gdrive')\n",
    "\n",
    "# Google drive needs to have a folder 'temp/towplanetracking/training/'\n",
    "# use \"copy_to_google_drive.sh\" to copy everything necessary for training.\n"
   ]
  },
  {
   "cell_type": "code",
   "execution_count": 3,
   "metadata": {
    "colab": {
     "base_uri": "https://localhost:8080/"
    },
    "executionInfo": {
     "elapsed": 35393,
     "status": "ok",
     "timestamp": 1618752125206,
     "user": {
      "displayName": "Julian Kozak",
      "photoUrl": "",
      "userId": "07976158460920386367"
     },
     "user_tz": -120
    },
    "id": "IeiaEsSMnF8u",
    "outputId": "a7a7a2d8-e7f8-452e-fce0-743935be6231"
   },
   "outputs": [
    {
     "name": "stdout",
     "output_type": "stream",
     "text": [
      "data  pytorch_utils  saved_state  train_model_v1.1.ipynb  train_model_v1.ipynb\n"
     ]
    },
    {
     "data": {
      "text/plain": []
     },
     "execution_count": 3,
     "metadata": {
      "tags": []
     },
     "output_type": "execute_result"
    }
   ],
   "source": [
    "%%shell\n",
    "\n",
    "cd /content/gdrive/MyDrive/temp/towplanetracking/training/\n",
    "ls"
   ]
  },
  {
   "cell_type": "code",
   "execution_count": 4,
   "metadata": {
    "executionInfo": {
     "elapsed": 35385,
     "status": "ok",
     "timestamp": 1618752125207,
     "user": {
      "displayName": "Julian Kozak",
      "photoUrl": "",
      "userId": "07976158460920386367"
     },
     "user_tz": -120
    },
    "id": "U2D5BhaD3tiU"
   },
   "outputs": [],
   "source": [
    "from PIL import Image\n",
    "import os"
   ]
  },
  {
   "cell_type": "code",
   "execution_count": 5,
   "metadata": {
    "executionInfo": {
     "elapsed": 35379,
     "status": "ok",
     "timestamp": 1618752125208,
     "user": {
      "displayName": "Julian Kozak",
      "photoUrl": "",
      "userId": "07976158460920386367"
     },
     "user_tz": -120
    },
    "id": "8ZQkw9L0TZ7v"
   },
   "outputs": [],
   "source": [
    "project_dir = \"/content/gdrive/MyDrive/temp/towplanetracking/training/\""
   ]
  },
  {
   "cell_type": "code",
   "execution_count": 6,
   "metadata": {
    "colab": {
     "base_uri": "https://localhost:8080/"
    },
    "executionInfo": {
     "elapsed": 35373,
     "status": "ok",
     "timestamp": 1618752125209,
     "user": {
      "displayName": "Julian Kozak",
      "photoUrl": "",
      "userId": "07976158460920386367"
     },
     "user_tz": -120
    },
    "id": "idRip2KdVoht",
    "outputId": "1b4b55a2-3f06-4e6f-d774-0d81b97da301"
   },
   "outputs": [
    {
     "name": "stdout",
     "output_type": "stream",
     "text": [
      "new working directory:  /content/gdrive/MyDrive/temp/towplanetracking/training\n"
     ]
    }
   ],
   "source": [
    "# change current working directory of python \n",
    "import sys\n",
    "import os\n",
    "\n",
    "os.chdir('/content/gdrive/MyDrive/temp/towplanetracking/training/') \n",
    "print(\"new working directory: \", os.getcwd())\n",
    "\n",
    "#dir_images = \"data/images_original\"\n",
    "#dir_masks = \"data/masks_original\"\n",
    "dir_images = \"data/images_resized_400px\"\n",
    "dir_masks = \"data/masks_resized_400px\"\n"
   ]
  },
  {
   "cell_type": "code",
   "execution_count": 7,
   "metadata": {
    "colab": {
     "base_uri": "https://localhost:8080/",
     "height": 233
    },
    "executionInfo": {
     "elapsed": 39548,
     "status": "ok",
     "timestamp": 1618752129394,
     "user": {
      "displayName": "Julian Kozak",
      "photoUrl": "",
      "userId": "07976158460920386367"
     },
     "user_tz": -120
    },
    "id": "CID0Mk_23v9S",
    "outputId": "12eeefd4-b280-4952-c4a1-79bdf1c3f6a6"
   },
   "outputs": [
    {
     "data": {
      "image/png": "[encoded data removed]",
      "text/plain": [
       "<PIL.PngImagePlugin.PngImageFile image mode=RGB size=400x216 at 0x7F3E288339D0>"
      ]
     },
     "execution_count": 7,
     "metadata": {
      "tags": []
     },
     "output_type": "execute_result"
    }
   ],
   "source": [
    "Image.open('data/images_resized_400px/img_0.png')"
   ]
  },
  {
   "cell_type": "code",
   "execution_count": 8,
   "metadata": {
    "colab": {
     "base_uri": "https://localhost:8080/",
     "height": 233
    },
    "executionInfo": {
     "elapsed": 40843,
     "status": "ok",
     "timestamp": 1618752130700,
     "user": {
      "displayName": "Julian Kozak",
      "photoUrl": "",
      "userId": "07976158460920386367"
     },
     "user_tz": -120
    },
    "id": "wk10cJqjIq_8",
    "outputId": "80d76121-c309-42fa-9c66-d8c19fba4172"
   },
   "outputs": [
    {
     "data": {
      "image/png": "[encoded data removed]",
      "text/plain": [
       "<PIL.PngImagePlugin.PngImageFile image mode=P size=400x216 at 0x7F3E225B7810>"
      ]
     },
     "execution_count": 8,
     "metadata": {
      "tags": []
     },
     "output_type": "execute_result"
    }
   ],
   "source": [
    "import numpy as np\n",
    "#mask = Image.open('data/masks_original/mask_0.png')\n",
    "mask = Image.open('data/masks_resized_400px/mask_0.png')\n",
    "mask.putpalette([\n",
    "    0, 0, 0, # black background\n",
    "    255, 0, 0 # index 1 is red\n",
    "])\n",
    "\n",
    "mask"
   ]
  },
  {
   "cell_type": "code",
   "execution_count": 9,
   "metadata": {
    "executionInfo": {
     "elapsed": 44649,
     "status": "ok",
     "timestamp": 1618752134520,
     "user": {
      "displayName": "Julian Kozak",
      "photoUrl": "",
      "userId": "07976158460920386367"
     },
     "user_tz": -120
    },
    "id": "pKA1GaBCIx-m"
   },
   "outputs": [],
   "source": [
    "import os\n",
    "import numpy as np\n",
    "import torch\n",
    "import torch.utils.data\n",
    "from PIL import Image\n",
    "\n",
    "\n",
    "class TowplaneDataset(torch.utils.data.Dataset):\n",
    "    def __init__(self, dir_images, dir_masks, transforms=None):\n",
    "        self.dir_images = dir_images\n",
    "        self.dir_masks = dir_masks\n",
    "        self.transforms = transforms\n",
    "        # load all image files, sorting them to ensure that they are aligned\n",
    "        self.imgs = list(sorted(os.listdir(dir_images)))\n",
    "        self.masks = list(sorted(os.listdir(dir_masks)))\n",
    "\n",
    "    def __getitem__(self, idx):\n",
    "        # load images ad masks\n",
    "        img_path = os.path.join(self.dir_images, self.imgs[idx])\n",
    "        mask_path = os.path.join(self.dir_masks, self.masks[idx])\n",
    "        img = Image.open(img_path).convert(\"RGB\")\n",
    "        # note that we haven't converted the mask to RGB,\n",
    "        # because each color corresponds to a different instance\n",
    "        # with 0 being background\n",
    "        mask = Image.open(mask_path)  \n",
    "\n",
    "        mask = np.array(mask)\n",
    "        # instances are encoded as different colors\n",
    "        obj_ids = np.unique(mask)\n",
    "        # first id is the background, so remove it\n",
    "        obj_ids = obj_ids[1:]\n",
    "\n",
    "        # split the color-encoded mask into a set of binary masks\n",
    "        masks = (mask == obj_ids[:, None, None])\n",
    "\n",
    "        # get bounding box coordinates for each mask\n",
    "        num_objs = len(obj_ids)\n",
    "        boxes = []\n",
    "        for i in range(num_objs):\n",
    "            pos = np.where(masks[i])\n",
    "            xmin = np.min(pos[1])\n",
    "            xmax = np.max(pos[1])\n",
    "            ymin = np.min(pos[0])\n",
    "            ymax = np.max(pos[0])\n",
    "            boxes.append([xmin, ymin, xmax, ymax])\n",
    "\n",
    "        boxes = torch.as_tensor(boxes, dtype=torch.float32)\n",
    "        # there is only one class\n",
    "        labels = torch.ones((num_objs,), dtype=torch.int64)\n",
    "        masks = torch.as_tensor(masks, dtype=torch.uint8)\n",
    "\n",
    "        image_id = torch.tensor([idx])\n",
    "        area = (boxes[:, 3] - boxes[:, 1]) * (boxes[:, 2] - boxes[:, 0])\n",
    "        # suppose all instances are not crowd\n",
    "        iscrowd = torch.zeros((num_objs,), dtype=torch.int64)\n",
    "\n",
    "        target = {}\n",
    "        target[\"boxes\"] = boxes\n",
    "        target[\"labels\"] = labels\n",
    "        target[\"masks\"] = masks\n",
    "        target[\"image_id\"] = image_id\n",
    "        target[\"area\"] = area\n",
    "        target[\"iscrowd\"] = iscrowd\n",
    "\n",
    "        if self.transforms is not None:\n",
    "            img, target = self.transforms(img, target)\n",
    "        \n",
    "        #im_path, mask_path = __getdebuginfo__(idx)\n",
    "        #print(\" {} ; {}\".format(im_path, mask_path))\n",
    "        \n",
    "        return img, target\n",
    "\n",
    "    def __len__(self):\n",
    "        return len(self.imgs)\n",
    "\n",
    "    def __getdebuginfo__(self, idx):\n",
    "      img_path = os.path.join(self.root, foldername_images, self.imgs[idx])\n",
    "      mask_path = os.path.join(self.root, foldername_masks, self.masks[idx])\n",
    "      return img_path, mask_path\n",
    "\n"
   ]
  },
  {
   "cell_type": "code",
   "execution_count": 10,
   "metadata": {
    "executionInfo": {
     "elapsed": 44642,
     "status": "ok",
     "timestamp": 1618752134523,
     "user": {
      "displayName": "Julian Kozak",
      "photoUrl": "",
      "userId": "07976158460920386367"
     },
     "user_tz": -120
    },
    "id": "lgzvCRT1B2W5"
   },
   "outputs": [],
   "source": [
    "import torchvision\n",
    "from torchvision.models.detection.faster_rcnn import FastRCNNPredictor\n",
    "from torchvision.models.detection.mask_rcnn import MaskRCNNPredictor\n",
    "\n",
    "      \n",
    "def get_instance_segmentation_model(num_classes):\n",
    "    # load an instance segmentation model pre-trained on COCO\n",
    "    model = torchvision.models.detection.maskrcnn_resnet50_fpn(pretrained=True)\n",
    "\n",
    "    # get the number of input features for the classifier\n",
    "    in_features = model.roi_heads.box_predictor.cls_score.in_features\n",
    "    # replace the pre-trained head with a new one\n",
    "    model.roi_heads.box_predictor = FastRCNNPredictor(in_features, num_classes)\n",
    "\n",
    "    # now get the number of input features for the mask classifier\n",
    "    in_features_mask = model.roi_heads.mask_predictor.conv5_mask.in_channels\n",
    "    hidden_layer = 256\n",
    "    # and replace the mask predictor with a new one\n",
    "    model.roi_heads.mask_predictor = MaskRCNNPredictor(in_features_mask,\n",
    "                                                       hidden_layer,\n",
    "                                                       num_classes)\n",
    "\n",
    "    return model"
   ]
  },
  {
   "cell_type": "code",
   "execution_count": 11,
   "metadata": {
    "executionInfo": {
     "elapsed": 50184,
     "status": "ok",
     "timestamp": 1618752140078,
     "user": {
      "displayName": "Julian Kozak",
      "photoUrl": "",
      "userId": "07976158460920386367"
     },
     "user_tz": -120
    },
    "id": "Qq3GnP2WC1ww"
   },
   "outputs": [],
   "source": [
    "from pytorch_utils.engine import train_one_epoch, evaluate\n",
    "import pytorch_utils.utils as utils\n",
    "import pytorch_utils.transforms as T\n",
    "\n",
    "\n",
    "def get_transform(train):\n",
    "    transforms = []\n",
    "    # converts the image, a PIL image, into a PyTorch Tensor\n",
    "    transforms.append(T.ToTensor())\n",
    "    if train:\n",
    "        # during training, randomly flip the training images\n",
    "        # and ground-truth for data augmentation\n",
    "        transforms.append(T.RandomHorizontalFlip(0.5))\n",
    "    return T.Compose(transforms)"
   ]
  },
  {
   "cell_type": "code",
   "execution_count": 12,
   "metadata": {
    "colab": {
     "base_uri": "https://localhost:8080/"
    },
    "executionInfo": {
     "elapsed": 50175,
     "status": "ok",
     "timestamp": 1618752140078,
     "user": {
      "displayName": "Julian Kozak",
      "photoUrl": "",
      "userId": "07976158460920386367"
     },
     "user_tz": -120
    },
    "id": "wVG0122NDSxD",
    "outputId": "0620af69-c391-48d7-8a7d-b7bd11d3c87a"
   },
   "outputs": [
    {
     "name": "stderr",
     "output_type": "stream",
     "text": [
      "/usr/local/lib/python3.7/dist-packages/torch/utils/data/dataloader.py:477: UserWarning: This DataLoader will create 4 worker processes in total. Our suggested max number of worker in current system is 2, which is smaller than what this DataLoader is going to create. Please be aware that excessive worker creation might get DataLoader running slow or even freeze, lower the worker number to avoid potential slowness/freeze if necessary.\n",
      "  cpuset_checked))\n"
     ]
    }
   ],
   "source": [
    "# create datasets and dataloader\n",
    "torch.manual_seed(1)\n",
    "N_test_images = 50\n",
    "\n",
    "# use our dataset and defined transformations\n",
    "dataset = TowplaneDataset(dir_images, dir_masks, get_transform(train=True))\n",
    "indices = torch.randperm(len(dataset)).tolist()\n",
    "dataset = torch.utils.data.Subset(dataset, indices[:-N_test_images])\n",
    "\n",
    "dataset_test = TowplaneDataset(dir_images, dir_masks, get_transform(train=False))\n",
    "dataset_test = torch.utils.data.Subset(dataset_test, indices[-N_test_images:])\n",
    "\n",
    "# define training and validation data loaders\n",
    "data_loader = torch.utils.data.DataLoader(\n",
    "    dataset, batch_size=1, shuffle=True, num_workers=4,\n",
    "    collate_fn=utils.collate_fn)\n",
    "\n",
    "data_loader_test = torch.utils.data.DataLoader(\n",
    "    dataset_test, batch_size=1, shuffle=False, num_workers=4,\n",
    "    collate_fn=utils.collate_fn)"
   ]
  },
  {
   "cell_type": "code",
   "execution_count": 13,
   "metadata": {
    "colab": {
     "base_uri": "https://localhost:8080/",
     "height": 102,
     "referenced_widgets": [
      "71be00e8c6c74521aff8380f7655a30b",
      "e587a2c0776842a583382aa9b0008d08",
      "169a019c8baa437691b29edb01f6a4da",
      "fe111e625fd54ace8916ac61ee1343f3",
      "29fcf31482d145a99274235f2df5153d",
      "3ce3accf5bd840cea09a63c6089db237",
      "9f823377ecb44eb497af781aeeaf084c",
      "bb39125e06ad42988b6f6ede80c756f7"
     ]
    },
    "executionInfo": {
     "elapsed": 63158,
     "status": "ok",
     "timestamp": 1618752153072,
     "user": {
      "displayName": "Julian Kozak",
      "photoUrl": "",
      "userId": "07976158460920386367"
     },
     "user_tz": -120
    },
    "id": "pSLWVxqwGdpa",
    "outputId": "f31c2574-9f71-4ce6-9589-69e2a501aaa0"
   },
   "outputs": [
    {
     "name": "stderr",
     "output_type": "stream",
     "text": [
      "Downloading: \"https://download.pytorch.org/models/maskrcnn_resnet50_fpn_coco-bf2d0c1e.pth\" to /root/.cache/torch/hub/checkpoints/maskrcnn_resnet50_fpn_coco-bf2d0c1e.pth\n"
     ]
    },
    {
     "data": {
      "application/vnd.jupyter.widget-view+json": {
       "model_id": "71be00e8c6c74521aff8380f7655a30b",
       "version_major": 2,
       "version_minor": 0
      },
      "text/plain": [
       "HBox(children=(FloatProgress(value=0.0, max=178090079.0), HTML(value='')))"
      ]
     },
     "metadata": {
      "tags": []
     },
     "output_type": "display_data"
    },
    {
     "name": "stdout",
     "output_type": "stream",
     "text": [
      "\n"
     ]
    }
   ],
   "source": [
    "device = torch.device('cuda') if torch.cuda.is_available() else torch.device('cpu')\n",
    "\n",
    "# our dataset has two classes only - background and person\n",
    "num_classes = 2\n",
    "\n",
    "# get the model using our helper function\n",
    "model = get_instance_segmentation_model(num_classes)\n",
    "# move model to the right device\n",
    "model.to(device)\n",
    "\n",
    "# construct an optimizer\n",
    "params = [p for p in model.parameters() if p.requires_grad]\n",
    "optimizer = torch.optim.SGD(params, lr=0.005,\n",
    "                            momentum=0.9, weight_decay=0.0005)\n",
    "\n",
    "# and a learning rate scheduler which decreases the learning rate by\n",
    "# 10x every 3 epochs\n",
    "lr_scheduler = torch.optim.lr_scheduler.StepLR(optimizer,\n",
    "                                               step_size=3,\n",
    "                                               gamma=0.1)"
   ]
  },
  {
   "cell_type": "code",
   "execution_count": 14,
   "metadata": {
    "colab": {
     "base_uri": "https://localhost:8080/"
    },
    "executionInfo": {
     "elapsed": 268922,
     "status": "ok",
     "timestamp": 1618752358869,
     "user": {
      "displayName": "Julian Kozak",
      "photoUrl": "",
      "userId": "07976158460920386367"
     },
     "user_tz": -120
    },
    "id": "tpJWpKGVGt-Y",
    "outputId": "fa67856c-f9ca-4b4a-f8d1-101468a49476"
   },
   "outputs": [
    {
     "name": "stderr",
     "output_type": "stream",
     "text": [
      "/usr/local/lib/python3.7/dist-packages/torch/utils/data/dataloader.py:477: UserWarning: This DataLoader will create 4 worker processes in total. Our suggested max number of worker in current system is 2, which is smaller than what this DataLoader is going to create. Please be aware that excessive worker creation might get DataLoader running slow or even freeze, lower the worker number to avoid potential slowness/freeze if necessary.\n",
      "  cpuset_checked))\n"
     ]
    },
    {
     "name": "stdout",
     "output_type": "stream",
     "text": [
      "Epoch: [0]  [  0/219]  eta: 0:08:13  lr: 0.000028  loss: 5.4425 (5.4425)  loss_classifier: 0.4968 (0.4968)  loss_box_reg: 0.1701 (0.1701)  loss_mask: 4.7681 (4.7681)  loss_objectness: 0.0000 (0.0000)  loss_rpn_box_reg: 0.0074 (0.0074)  time: 2.2534  data: 1.6294  max mem: 1376\n",
      "Epoch: [0]  [  1/219]  eta: 0:04:24  lr: 0.000051  loss: 5.4425 (5.8148)  loss_classifier: 0.4968 (0.5038)  loss_box_reg: 0.0515 (0.1108)  loss_mask: 4.7681 (5.1679)  loss_objectness: 0.0000 (0.0097)  loss_rpn_box_reg: 0.0074 (0.0227)  time: 1.2146  data: 0.8154  max mem: 1376\n",
      "Epoch: [0]  [  2/219]  eta: 0:12:25  lr: 0.000074  loss: 6.0763 (5.9020)  loss_classifier: 0.5107 (0.5316)  loss_box_reg: 0.0651 (0.0956)  loss_mask: 5.4063 (5.2473)  loss_objectness: 0.0099 (0.0097)  loss_rpn_box_reg: 0.0078 (0.0177)  time: 3.4359  data: 3.0991  max mem: 1649\n",
      "Epoch: [0]  [  3/219]  eta: 0:09:27  lr: 0.000097  loss: 5.4425 (5.7482)  loss_classifier: 0.4968 (0.5104)  loss_box_reg: 0.0651 (0.1240)  loss_mask: 4.7681 (5.0921)  loss_objectness: 0.0000 (0.0073)  loss_rpn_box_reg: 0.0074 (0.0144)  time: 2.6293  data: 2.3246  max mem: 1686\n",
      "Epoch: [0]  [  4/219]  eta: 0:07:40  lr: 0.000120  loss: 5.4425 (5.1296)  loss_classifier: 0.5107 (0.5170)  loss_box_reg: 0.0751 (0.1142)  loss_mask: 4.7681 (4.4748)  loss_objectness: 0.0099 (0.0118)  loss_rpn_box_reg: 0.0074 (0.0118)  time: 2.1416  data: 1.8599  max mem: 1686\n",
      "Epoch: [0]  [  5/219]  eta: 0:06:29  lr: 0.000142  loss: 5.2867 (4.9578)  loss_classifier: 0.4968 (0.5046)  loss_box_reg: 0.0751 (0.1106)  loss_mask: 4.6263 (4.3182)  loss_objectness: 0.0099 (0.0136)  loss_rpn_box_reg: 0.0065 (0.0109)  time: 1.8181  data: 1.5501  max mem: 1686\n",
      "Epoch: [0]  [  6/219]  eta: 0:05:59  lr: 0.000165  loss: 5.2867 (4.5566)  loss_classifier: 0.4968 (0.4979)  loss_box_reg: 0.0751 (0.0991)  loss_mask: 4.6263 (3.9306)  loss_objectness: 0.0193 (0.0190)  loss_rpn_box_reg: 0.0065 (0.0100)  time: 1.6882  data: 1.4333  max mem: 1686\n",
      "Epoch: [0]  [  7/219]  eta: 0:05:18  lr: 0.000188  loss: 4.0989 (4.2105)  loss_classifier: 0.4578 (0.4687)  loss_box_reg: 0.0751 (0.1037)  loss_mask: 3.5349 (3.6119)  loss_objectness: 0.0099 (0.0174)  loss_rpn_box_reg: 0.0044 (0.0088)  time: 1.5025  data: 1.2541  max mem: 1686\n",
      "Epoch: [0]  [  8/219]  eta: 0:04:46  lr: 0.000211  loss: 4.0989 (3.8969)  loss_classifier: 0.4578 (0.4420)  loss_box_reg: 0.0924 (0.1167)  loss_mask: 3.5349 (3.3146)  loss_objectness: 0.0099 (0.0155)  loss_rpn_box_reg: 0.0044 (0.0081)  time: 1.3588  data: 1.1148  max mem: 1686\n",
      "Epoch: [0]  [  9/219]  eta: 0:04:20  lr: 0.000234  loss: 2.6553 (3.6728)  loss_classifier: 0.4470 (0.4171)  loss_box_reg: 0.0751 (0.1082)  loss_mask: 2.0057 (3.1004)  loss_objectness: 0.0099 (0.0359)  loss_rpn_box_reg: 0.0044 (0.0112)  time: 1.2427  data: 1.0034  max mem: 1686\n",
      "Epoch: [0]  [ 10/219]  eta: 0:04:14  lr: 0.000257  loss: 2.6553 (3.4198)  loss_classifier: 0.4470 (0.3901)  loss_box_reg: 0.0781 (0.1055)  loss_mask: 2.0057 (2.8808)  loss_objectness: 0.0099 (0.0328)  loss_rpn_box_reg: 0.0048 (0.0106)  time: 1.2157  data: 0.9802  max mem: 1686\n",
      "Epoch: [0]  [ 11/219]  eta: 0:03:55  lr: 0.000280  loss: 2.1491 (3.1904)  loss_classifier: 0.4423 (0.3681)  loss_box_reg: 0.0751 (0.1026)  loss_mask: 1.6053 (2.6774)  loss_objectness: 0.0099 (0.0320)  loss_rpn_box_reg: 0.0048 (0.0103)  time: 1.1310  data: 0.8986  max mem: 1686\n",
      "Epoch: [0]  [ 12/219]  eta: 0:03:39  lr: 0.000303  loss: 2.1491 (3.0360)  loss_classifier: 0.4423 (0.3481)  loss_box_reg: 0.0781 (0.1032)  loss_mask: 1.6053 (2.5372)  loss_objectness: 0.0193 (0.0355)  loss_rpn_box_reg: 0.0065 (0.0119)  time: 1.0587  data: 0.8296  max mem: 1686\n",
      "Epoch: [0]  [ 13/219]  eta: 0:03:24  lr: 0.000326  loss: 1.7883 (2.9097)  loss_classifier: 0.2643 (0.3287)  loss_box_reg: 0.0751 (0.0978)  loss_mask: 1.3811 (2.4263)  loss_objectness: 0.0193 (0.0442)  loss_rpn_box_reg: 0.0065 (0.0126)  time: 0.9937  data: 0.7704  max mem: 1686\n",
      "Epoch: [0]  [ 14/219]  eta: 0:03:35  lr: 0.000349  loss: 1.7883 (2.7750)  loss_classifier: 0.2643 (0.3137)  loss_box_reg: 0.0781 (0.1012)  loss_mask: 1.3811 (2.3070)  loss_objectness: 0.0193 (0.0413)  loss_rpn_box_reg: 0.0065 (0.0118)  time: 1.0519  data: 0.8297  max mem: 1686\n",
      "Epoch: [0]  [ 15/219]  eta: 0:03:23  lr: 0.000372  loss: 1.6562 (2.6556)  loss_classifier: 0.2283 (0.2991)  loss_box_reg: 0.0751 (0.0985)  loss_mask: 1.1722 (2.2057)  loss_objectness: 0.0188 (0.0399)  loss_rpn_box_reg: 0.0065 (0.0123)  time: 0.9986  data: 0.7779  max mem: 1686\n",
      "Epoch: [0]  [ 16/219]  eta: 0:03:13  lr: 0.000395  loss: 1.6562 (2.5364)  loss_classifier: 0.2283 (0.2856)  loss_box_reg: 0.0751 (0.0954)  loss_mask: 1.1722 (2.1038)  loss_objectness: 0.0193 (0.0399)  loss_rpn_box_reg: 0.0065 (0.0118)  time: 0.9514  data: 0.7322  max mem: 1686\n",
      "Epoch: [0]  [ 17/219]  eta: 0:03:03  lr: 0.000417  loss: 1.3880 (2.4383)  loss_classifier: 0.1938 (0.2775)  loss_box_reg: 0.0751 (0.1028)  loss_mask: 0.9845 (2.0087)  loss_objectness: 0.0188 (0.0382)  loss_rpn_box_reg: 0.0048 (0.0112)  time: 0.9099  data: 0.6916  max mem: 1686\n",
      "Epoch: [0]  [ 18/219]  eta: 0:03:03  lr: 0.000440  loss: 1.3880 (2.3577)  loss_classifier: 0.1938 (0.2661)  loss_box_reg: 0.0758 (0.1014)  loss_mask: 0.9845 (1.9425)  loss_objectness: 0.0188 (0.0362)  loss_rpn_box_reg: 0.0065 (0.0114)  time: 0.9119  data: 0.6943  max mem: 1686\n",
      "Epoch: [0]  [ 19/219]  eta: 0:02:55  lr: 0.000463  loss: 1.2677 (2.2720)  loss_classifier: 0.1416 (0.2599)  loss_box_reg: 0.0758 (0.1041)  loss_mask: 0.9360 (1.8622)  loss_objectness: 0.0099 (0.0349)  loss_rpn_box_reg: 0.0048 (0.0109)  time: 0.8768  data: 0.6597  max mem: 1686\n",
      "Epoch: [0]  [ 20/219]  eta: 0:02:48  lr: 0.000486  loss: 1.1827 (2.1958)  loss_classifier: 0.1398 (0.2523)  loss_box_reg: 0.0758 (0.1037)  loss_mask: 0.8551 (1.7943)  loss_objectness: 0.0188 (0.0345)  loss_rpn_box_reg: 0.0048 (0.0111)  time: 0.7741  data: 0.5782  max mem: 1686\n",
      "Epoch: [0]  [ 21/219]  eta: 0:02:41  lr: 0.000509  loss: 0.9058 (2.1220)  loss_classifier: 0.1266 (0.2463)  loss_box_reg: 0.0781 (0.1050)  loss_mask: 0.7517 (1.7260)  loss_objectness: 0.0188 (0.0340)  loss_rpn_box_reg: 0.0044 (0.0107)  time: 0.7754  data: 0.5782  max mem: 1686\n",
      "Epoch: [0]  [ 22/219]  eta: 0:02:41  lr: 0.000532  loss: 0.8898 (2.0560)  loss_classifier: 0.1266 (0.2421)  loss_box_reg: 0.0924 (0.1078)  loss_mask: 0.6866 (1.6630)  loss_objectness: 0.0188 (0.0328)  loss_rpn_box_reg: 0.0042 (0.0102)  time: 0.4278  data: 0.2314  max mem: 1686\n",
      "Epoch: [0]  [ 23/219]  eta: 0:02:35  lr: 0.000555  loss: 0.8895 (1.9875)  loss_classifier: 0.1207 (0.2362)  loss_box_reg: 0.0916 (0.1071)  loss_mask: 0.6855 (1.6028)  loss_objectness: 0.0188 (0.0315)  loss_rpn_box_reg: 0.0025 (0.0099)  time: 0.4272  data: 0.2314  max mem: 1686\n",
      "Epoch: [0]  [ 24/219]  eta: 0:02:30  lr: 0.000578  loss: 0.8641 (1.9370)  loss_classifier: 0.1193 (0.2288)  loss_box_reg: 0.0916 (0.1044)  loss_mask: 0.6362 (1.5598)  loss_objectness: 0.0188 (0.0322)  loss_rpn_box_reg: 0.0042 (0.0118)  time: 0.4262  data: 0.2314  max mem: 1686\n",
      "Epoch: [0]  [ 25/219]  eta: 0:02:24  lr: 0.000601  loss: 0.7719 (1.8770)  loss_classifier: 0.1076 (0.2225)  loss_box_reg: 0.0781 (0.1019)  loss_mask: 0.5294 (1.5091)  loss_objectness: 0.0188 (0.0318)  loss_rpn_box_reg: 0.0042 (0.0117)  time: 0.4260  data: 0.2314  max mem: 1686\n",
      "Epoch: [0]  [ 26/219]  eta: 0:02:25  lr: 0.000624  loss: 0.7262 (1.8205)  loss_classifier: 0.1042 (0.2171)  loss_box_reg: 0.0781 (0.1007)  loss_mask: 0.4729 (1.4604)  loss_objectness: 0.0097 (0.0310)  loss_rpn_box_reg: 0.0028 (0.0114)  time: 0.4296  data: 0.2341  max mem: 1686\n",
      "Epoch: [0]  [ 27/219]  eta: 0:02:25  lr: 0.000647  loss: 0.7262 (1.7837)  loss_classifier: 0.1007 (0.2117)  loss_box_reg: 0.0758 (0.0991)  loss_mask: 0.4729 (1.4256)  loss_objectness: 0.0188 (0.0338)  loss_rpn_box_reg: 0.0048 (0.0135)  time: 0.4590  data: 0.2651  max mem: 1686\n",
      "Epoch: [0]  [ 28/219]  eta: 0:02:20  lr: 0.000669  loss: 0.6718 (1.7432)  loss_classifier: 0.0999 (0.2057)  loss_box_reg: 0.0709 (0.0968)  loss_mask: 0.4680 (1.3926)  loss_objectness: 0.0223 (0.0338)  loss_rpn_box_reg: 0.0069 (0.0143)  time: 0.4551  data: 0.2651  max mem: 1686\n",
      "Epoch: [0]  [ 29/219]  eta: 0:02:27  lr: 0.000692  loss: 0.6668 (1.7051)  loss_classifier: 0.0792 (0.2014)  loss_box_reg: 0.0758 (0.0961)  loss_mask: 0.4400 (1.3601)  loss_objectness: 0.0188 (0.0328)  loss_rpn_box_reg: 0.0069 (0.0147)  time: 0.5452  data: 0.3562  max mem: 1686\n",
      "Epoch: [0]  [ 30/219]  eta: 0:02:23  lr: 0.000715  loss: 0.6444 (1.6672)  loss_classifier: 0.0788 (0.1969)  loss_box_reg: 0.0713 (0.0953)  loss_mask: 0.4359 (1.3289)  loss_objectness: 0.0188 (0.0317)  loss_rpn_box_reg: 0.0069 (0.0144)  time: 0.5078  data: 0.3188  max mem: 1686\n",
      "Epoch: [0]  [ 31/219]  eta: 0:02:19  lr: 0.000738  loss: 0.6295 (1.6315)  loss_classifier: 0.0766 (0.1923)  loss_box_reg: 0.0713 (0.0937)  loss_mask: 0.4206 (1.3005)  loss_objectness: 0.0097 (0.0308)  loss_rpn_box_reg: 0.0075 (0.0142)  time: 0.5068  data: 0.3189  max mem: 1686\n",
      "Epoch: [0]  [ 32/219]  eta: 0:02:15  lr: 0.000761  loss: 0.6295 (1.6026)  loss_classifier: 0.0766 (0.1896)  loss_box_reg: 0.0713 (0.0960)  loss_mask: 0.4176 (1.2732)  loss_objectness: 0.0092 (0.0299)  loss_rpn_box_reg: 0.0041 (0.0138)  time: 0.5069  data: 0.3189  max mem: 1686\n",
      "Epoch: [0]  [ 33/219]  eta: 0:02:16  lr: 0.000784  loss: 0.6097 (1.5721)  loss_classifier: 0.0753 (0.1859)  loss_box_reg: 0.0743 (0.0954)  loss_mask: 0.4010 (1.2464)  loss_objectness: 0.0092 (0.0296)  loss_rpn_box_reg: 0.0041 (0.0149)  time: 0.5475  data: 0.3590  max mem: 1686\n",
      "Epoch: [0]  [ 34/219]  eta: 0:02:12  lr: 0.000807  loss: 0.6031 (1.5425)  loss_classifier: 0.0753 (0.1838)  loss_box_reg: 0.0743 (0.0983)  loss_mask: 0.3922 (1.2170)  loss_objectness: 0.0092 (0.0288)  loss_rpn_box_reg: 0.0041 (0.0146)  time: 0.4645  data: 0.2760  max mem: 1686\n",
      "Epoch: [0]  [ 35/219]  eta: 0:02:09  lr: 0.000830  loss: 0.6014 (1.5094)  loss_classifier: 0.0699 (0.1803)  loss_box_reg: 0.0743 (0.0972)  loss_mask: 0.3920 (1.1896)  loss_objectness: 0.0090 (0.0280)  loss_rpn_box_reg: 0.0037 (0.0143)  time: 0.4645  data: 0.2760  max mem: 1686\n",
      "Epoch: [0]  [ 36/219]  eta: 0:02:05  lr: 0.000853  loss: 0.6014 (1.4857)  loss_classifier: 0.0662 (0.1771)  loss_box_reg: 0.0758 (0.0967)  loss_mask: 0.3920 (1.1690)  loss_objectness: 0.0090 (0.0284)  loss_rpn_box_reg: 0.0041 (0.0144)  time: 0.4622  data: 0.2760  max mem: 1686\n",
      "Epoch: [0]  [ 37/219]  eta: 0:02:06  lr: 0.000876  loss: 0.6014 (1.4667)  loss_classifier: 0.0662 (0.1744)  loss_box_reg: 0.0758 (0.0967)  loss_mask: 0.3922 (1.1532)  loss_objectness: 0.0090 (0.0279)  loss_rpn_box_reg: 0.0075 (0.0145)  time: 0.4986  data: 0.3147  max mem: 1686\n",
      "Epoch: [0]  [ 38/219]  eta: 0:02:03  lr: 0.000899  loss: 0.5716 (1.4420)  loss_classifier: 0.0709 (0.1718)  loss_box_reg: 0.0775 (0.0965)  loss_mask: 0.3618 (1.1317)  loss_objectness: 0.0090 (0.0273)  loss_rpn_box_reg: 0.0075 (0.0148)  time: 0.4614  data: 0.2776  max mem: 1686\n",
      "Epoch: [0]  [ 39/219]  eta: 0:02:00  lr: 0.000922  loss: 0.5716 (1.4204)  loss_classifier: 0.0709 (0.1694)  loss_box_reg: 0.0775 (0.0985)  loss_mask: 0.3618 (1.1115)  loss_objectness: 0.0070 (0.0266)  loss_rpn_box_reg: 0.0075 (0.0144)  time: 0.4576  data: 0.2775  max mem: 1686\n",
      "Epoch: [0]  [ 40/219]  eta: 0:01:57  lr: 0.000944  loss: 0.5669 (1.3958)  loss_classifier: 0.0662 (0.1666)  loss_box_reg: 0.0775 (0.0985)  loss_mask: 0.3232 (1.0903)  loss_objectness: 0.0070 (0.0261)  loss_rpn_box_reg: 0.0041 (0.0142)  time: 0.4566  data: 0.2775  max mem: 1686\n",
      "Epoch: [0]  [ 41/219]  eta: 0:01:58  lr: 0.000967  loss: 0.5340 (1.3746)  loss_classifier: 0.0662 (0.1649)  loss_box_reg: 0.0775 (0.0983)  loss_mask: 0.3232 (1.0715)  loss_objectness: 0.0064 (0.0257)  loss_rpn_box_reg: 0.0075 (0.0144)  time: 0.4956  data: 0.3175  max mem: 1686\n",
      "Epoch: [0]  [ 42/219]  eta: 0:01:55  lr: 0.000990  loss: 0.5293 (1.3489)  loss_classifier: 0.0644 (0.1621)  loss_box_reg: 0.0743 (0.0972)  loss_mask: 0.3232 (1.0504)  loss_objectness: 0.0031 (0.0251)  loss_rpn_box_reg: 0.0075 (0.0141)  time: 0.4590  data: 0.2811  max mem: 1686\n",
      "Epoch: [0]  [ 43/219]  eta: 0:01:52  lr: 0.001013  loss: 0.5340 (1.3318)  loss_classifier: 0.0625 (0.1593)  loss_box_reg: 0.0713 (0.0960)  loss_mask: 0.3618 (1.0378)  loss_objectness: 0.0064 (0.0248)  loss_rpn_box_reg: 0.0075 (0.0139)  time: 0.4580  data: 0.2811  max mem: 1686\n",
      "Epoch: [0]  [ 44/219]  eta: 0:01:51  lr: 0.001036  loss: 0.5293 (1.3103)  loss_classifier: 0.0644 (0.1574)  loss_box_reg: 0.0743 (0.0966)  loss_mask: 0.3232 (1.0184)  loss_objectness: 0.0031 (0.0243)  loss_rpn_box_reg: 0.0049 (0.0136)  time: 0.4665  data: 0.2880  max mem: 1686\n",
      "Epoch: [0]  [ 45/219]  eta: 0:01:50  lr: 0.001059  loss: 0.5293 (1.2900)  loss_classifier: 0.0662 (0.1557)  loss_box_reg: 0.0775 (0.0967)  loss_mask: 0.3232 (1.0002)  loss_objectness: 0.0031 (0.0240)  loss_rpn_box_reg: 0.0045 (0.0134)  time: 0.4934  data: 0.3149  max mem: 1686\n",
      "Epoch: [0]  [ 46/219]  eta: 0:01:48  lr: 0.001082  loss: 0.5293 (1.2728)  loss_classifier: 0.0625 (0.1532)  loss_box_reg: 0.0775 (0.0958)  loss_mask: 0.3618 (0.9869)  loss_objectness: 0.0031 (0.0236)  loss_rpn_box_reg: 0.0045 (0.0132)  time: 0.4526  data: 0.2756  max mem: 1686\n",
      "Epoch: [0]  [ 47/219]  eta: 0:01:52  lr: 0.001105  loss: 0.5244 (1.2556)  loss_classifier: 0.0625 (0.1514)  loss_box_reg: 0.0788 (0.0960)  loss_mask: 0.3232 (0.9710)  loss_objectness: 0.0031 (0.0242)  loss_rpn_box_reg: 0.0041 (0.0130)  time: 0.5166  data: 0.3381  max mem: 1686\n",
      "Epoch: [0]  [ 48/219]  eta: 0:01:50  lr: 0.001128  loss: 0.5085 (1.2376)  loss_classifier: 0.0637 (0.1503)  loss_box_reg: 0.0869 (0.0969)  loss_mask: 0.3143 (0.9535)  loss_objectness: 0.0031 (0.0240)  loss_rpn_box_reg: 0.0041 (0.0128)  time: 0.5204  data: 0.3381  max mem: 1686\n",
      "Epoch: [0]  [ 49/219]  eta: 0:01:48  lr: 0.001151  loss: 0.5032 (1.2199)  loss_classifier: 0.0625 (0.1484)  loss_box_reg: 0.0869 (0.0957)  loss_mask: 0.2982 (0.9395)  loss_objectness: 0.0064 (0.0237)  loss_rpn_box_reg: 0.0041 (0.0126)  time: 0.4304  data: 0.2471  max mem: 1686\n",
      "Epoch: [0]  [ 50/219]  eta: 0:01:46  lr: 0.001174  loss: 0.5032 (1.2082)  loss_classifier: 0.0625 (0.1465)  loss_box_reg: 0.0869 (0.0950)  loss_mask: 0.2982 (0.9305)  loss_objectness: 0.0064 (0.0232)  loss_rpn_box_reg: 0.0041 (0.0129)  time: 0.4301  data: 0.2471  max mem: 1686\n",
      "Epoch: [0]  [ 51/219]  eta: 0:01:50  lr: 0.001196  loss: 0.5032 (1.1986)  loss_classifier: 0.0637 (0.1455)  loss_box_reg: 0.0912 (0.0974)  loss_mask: 0.2982 (0.9202)  loss_objectness: 0.0064 (0.0228)  loss_rpn_box_reg: 0.0041 (0.0128)  time: 0.5291  data: 0.3460  max mem: 1686\n",
      "Epoch: [0]  [ 52/219]  eta: 0:01:48  lr: 0.001219  loss: 0.4824 (1.1838)  loss_classifier: 0.0637 (0.1440)  loss_box_reg: 0.0869 (0.0965)  loss_mask: 0.2870 (0.9083)  loss_objectness: 0.0064 (0.0224)  loss_rpn_box_reg: 0.0041 (0.0126)  time: 0.5289  data: 0.3460  max mem: 1686\n",
      "Epoch: [0]  [ 53/219]  eta: 0:01:46  lr: 0.001242  loss: 0.4451 (1.1701)  loss_classifier: 0.0637 (0.1425)  loss_box_reg: 0.0869 (0.0960)  loss_mask: 0.2870 (0.8970)  loss_objectness: 0.0025 (0.0220)  loss_rpn_box_reg: 0.0041 (0.0126)  time: 0.4910  data: 0.3059  max mem: 1686\n",
      "Epoch: [0]  [ 54/219]  eta: 0:01:44  lr: 0.001265  loss: 0.4451 (1.1622)  loss_classifier: 0.0637 (0.1413)  loss_box_reg: 0.0788 (0.0949)  loss_mask: 0.2982 (0.8908)  loss_objectness: 0.0064 (0.0228)  loss_rpn_box_reg: 0.0041 (0.0124)  time: 0.4901  data: 0.3059  max mem: 1686\n",
      "Epoch: [0]  [ 55/219]  eta: 0:01:44  lr: 0.001288  loss: 0.4451 (1.1491)  loss_classifier: 0.0637 (0.1397)  loss_box_reg: 0.0788 (0.0944)  loss_mask: 0.2982 (0.8801)  loss_objectness: 0.0064 (0.0224)  loss_rpn_box_reg: 0.0045 (0.0125)  time: 0.5229  data: 0.3389  max mem: 1686\n",
      "Epoch: [0]  [ 56/219]  eta: 0:01:47  lr: 0.001311  loss: 0.4451 (1.1385)  loss_classifier: 0.0637 (0.1382)  loss_box_reg: 0.0686 (0.0937)  loss_mask: 0.2982 (0.8718)  loss_objectness: 0.0025 (0.0220)  loss_rpn_box_reg: 0.0045 (0.0127)  time: 0.6157  data: 0.4304  max mem: 1686\n",
      "Epoch: [0]  [ 57/219]  eta: 0:01:45  lr: 0.001334  loss: 0.4451 (1.1424)  loss_classifier: 0.0601 (0.1361)  loss_box_reg: 0.0669 (0.0921)  loss_mask: 0.2982 (0.8775)  loss_objectness: 0.0020 (0.0217)  loss_rpn_box_reg: 0.0045 (0.0150)  time: 0.5784  data: 0.3917  max mem: 1686\n",
      "Epoch: [0]  [ 58/219]  eta: 0:01:44  lr: 0.001357  loss: 0.4451 (1.1337)  loss_classifier: 0.0568 (0.1347)  loss_box_reg: 0.0669 (0.0923)  loss_mask: 0.2982 (0.8706)  loss_objectness: 0.0025 (0.0214)  loss_rpn_box_reg: 0.0041 (0.0147)  time: 0.5781  data: 0.3917  max mem: 1686\n",
      "Epoch: [0]  [ 59/219]  eta: 0:01:42  lr: 0.001380  loss: 0.4451 (1.1225)  loss_classifier: 0.0568 (0.1335)  loss_box_reg: 0.0669 (0.0920)  loss_mask: 0.2943 (0.8609)  loss_objectness: 0.0034 (0.0213)  loss_rpn_box_reg: 0.0045 (0.0148)  time: 0.5801  data: 0.3917  max mem: 1686\n",
      "Epoch: [0]  [ 60/219]  eta: 0:01:42  lr: 0.001403  loss: 0.4451 (1.1101)  loss_classifier: 0.0601 (0.1325)  loss_box_reg: 0.0669 (0.0922)  loss_mask: 0.2943 (0.8497)  loss_objectness: 0.0034 (0.0211)  loss_rpn_box_reg: 0.0047 (0.0147)  time: 0.6175  data: 0.4283  max mem: 1686\n",
      "Epoch: [0]  [ 61/219]  eta: 0:01:40  lr: 0.001426  loss: 0.4443 (1.0971)  loss_classifier: 0.0568 (0.1311)  loss_box_reg: 0.0633 (0.0917)  loss_mask: 0.2886 (0.8390)  loss_objectness: 0.0034 (0.0208)  loss_rpn_box_reg: 0.0045 (0.0145)  time: 0.5788  data: 0.3884  max mem: 1686\n",
      "Epoch: [0]  [ 62/219]  eta: 0:01:43  lr: 0.001449  loss: 0.4443 (1.0852)  loss_classifier: 0.0568 (0.1299)  loss_box_reg: 0.0669 (0.0914)  loss_mask: 0.2886 (0.8289)  loss_objectness: 0.0044 (0.0206)  loss_rpn_box_reg: 0.0045 (0.0144)  time: 0.6738  data: 0.4831  max mem: 1686\n",
      "Epoch: [0]  [ 63/219]  eta: 0:01:41  lr: 0.001471  loss: 0.4443 (1.0757)  loss_classifier: 0.0568 (0.1284)  loss_box_reg: 0.0669 (0.0908)  loss_mask: 0.2886 (0.8220)  loss_objectness: 0.0034 (0.0203)  loss_rpn_box_reg: 0.0045 (0.0142)  time: 0.6716  data: 0.4831  max mem: 1686\n",
      "Epoch: [0]  [ 64/219]  eta: 0:01:39  lr: 0.001494  loss: 0.4451 (1.0752)  loss_classifier: 0.0553 (0.1271)  loss_box_reg: 0.0633 (0.0903)  loss_mask: 0.2943 (0.8231)  loss_objectness: 0.0044 (0.0204)  loss_rpn_box_reg: 0.0047 (0.0144)  time: 0.6635  data: 0.4762  max mem: 1686\n",
      "Epoch: [0]  [ 65/219]  eta: 0:01:38  lr: 0.001517  loss: 0.4578 (1.0658)  loss_classifier: 0.0550 (0.1258)  loss_box_reg: 0.0627 (0.0896)  loss_mask: 0.3008 (0.8161)  loss_objectness: 0.0034 (0.0201)  loss_rpn_box_reg: 0.0047 (0.0142)  time: 0.6361  data: 0.4493  max mem: 1686\n",
      "Epoch: [0]  [ 66/219]  eta: 0:01:37  lr: 0.001540  loss: 0.4578 (1.0568)  loss_classifier: 0.0550 (0.1246)  loss_box_reg: 0.0627 (0.0890)  loss_mask: 0.3008 (0.8094)  loss_objectness: 0.0025 (0.0198)  loss_rpn_box_reg: 0.0047 (0.0140)  time: 0.6724  data: 0.4858  max mem: 1686\n",
      "Epoch: [0]  [ 67/219]  eta: 0:01:36  lr: 0.001563  loss: 0.4578 (1.0456)  loss_classifier: 0.0531 (0.1233)  loss_box_reg: 0.0627 (0.0887)  loss_mask: 0.3008 (0.8001)  loss_objectness: 0.0025 (0.0196)  loss_rpn_box_reg: 0.0047 (0.0139)  time: 0.5789  data: 0.3924  max mem: 1686\n",
      "Epoch: [0]  [ 68/219]  eta: 0:01:34  lr: 0.001586  loss: 0.4621 (1.0377)  loss_classifier: 0.0531 (0.1227)  loss_box_reg: 0.0627 (0.0891)  loss_mask: 0.3008 (0.7928)  loss_objectness: 0.0022 (0.0194)  loss_rpn_box_reg: 0.0047 (0.0137)  time: 0.5784  data: 0.3924  max mem: 1686\n",
      "Epoch: [0]  [ 69/219]  eta: 0:01:33  lr: 0.001609  loss: 0.4630 (1.0309)  loss_classifier: 0.0531 (0.1221)  loss_box_reg: 0.0633 (0.0898)  loss_mask: 0.3361 (0.7863)  loss_objectness: 0.0020 (0.0191)  loss_rpn_box_reg: 0.0047 (0.0136)  time: 0.5784  data: 0.3924  max mem: 1686\n",
      "Epoch: [0]  [ 70/219]  eta: 0:01:33  lr: 0.001632  loss: 0.4621 (1.0210)  loss_classifier: 0.0531 (0.1208)  loss_box_reg: 0.0634 (0.0895)  loss_mask: 0.3008 (0.7784)  loss_objectness: 0.0020 (0.0189)  loss_rpn_box_reg: 0.0039 (0.0134)  time: 0.6106  data: 0.4242  max mem: 1686\n",
      "Epoch: [0]  [ 71/219]  eta: 0:01:31  lr: 0.001655  loss: 0.4621 (1.0135)  loss_classifier: 0.0492 (0.1197)  loss_box_reg: 0.0627 (0.0889)  loss_mask: 0.3008 (0.7727)  loss_objectness: 0.0022 (0.0188)  loss_rpn_box_reg: 0.0039 (0.0135)  time: 0.5109  data: 0.3253  max mem: 1686\n",
      "Epoch: [0]  [ 72/219]  eta: 0:01:30  lr: 0.001678  loss: 0.4621 (1.0046)  loss_classifier: 0.0492 (0.1190)  loss_box_reg: 0.0627 (0.0883)  loss_mask: 0.3008 (0.7653)  loss_objectness: 0.0022 (0.0187)  loss_rpn_box_reg: 0.0039 (0.0133)  time: 0.5114  data: 0.3253  max mem: 1686\n",
      "Epoch: [0]  [ 73/219]  eta: 0:01:28  lr: 0.001701  loss: 0.4621 (0.9965)  loss_classifier: 0.0463 (0.1180)  loss_box_reg: 0.0582 (0.0877)  loss_mask: 0.3086 (0.7592)  loss_objectness: 0.0034 (0.0185)  loss_rpn_box_reg: 0.0031 (0.0132)  time: 0.5112  data: 0.3253  max mem: 1686\n",
      "Epoch: [0]  [ 74/219]  eta: 0:01:28  lr: 0.001723  loss: 0.4578 (0.9891)  loss_classifier: 0.0463 (0.1173)  loss_box_reg: 0.0627 (0.0882)  loss_mask: 0.2943 (0.7522)  loss_objectness: 0.0034 (0.0184)  loss_rpn_box_reg: 0.0031 (0.0130)  time: 0.5513  data: 0.3647  max mem: 1686\n",
      "Epoch: [0]  [ 75/219]  eta: 0:01:27  lr: 0.001746  loss: 0.4578 (0.9794)  loss_classifier: 0.0439 (0.1161)  loss_box_reg: 0.0582 (0.0875)  loss_mask: 0.2922 (0.7448)  loss_objectness: 0.0035 (0.0182)  loss_rpn_box_reg: 0.0029 (0.0129)  time: 0.5182  data: 0.3317  max mem: 1686\n",
      "Epoch: [0]  [ 76/219]  eta: 0:01:25  lr: 0.001769  loss: 0.4578 (0.9738)  loss_classifier: 0.0437 (0.1151)  loss_box_reg: 0.0582 (0.0868)  loss_mask: 0.2922 (0.7411)  loss_objectness: 0.0042 (0.0180)  loss_rpn_box_reg: 0.0029 (0.0128)  time: 0.4268  data: 0.2402  max mem: 1686\n",
      "Epoch: [0]  [ 77/219]  eta: 0:01:24  lr: 0.001792  loss: 0.4411 (0.9658)  loss_classifier: 0.0439 (0.1143)  loss_box_reg: 0.0602 (0.0864)  loss_mask: 0.2886 (0.7347)  loss_objectness: 0.0042 (0.0178)  loss_rpn_box_reg: 0.0028 (0.0127)  time: 0.4279  data: 0.2402  max mem: 1686\n",
      "Epoch: [0]  [ 78/219]  eta: 0:01:24  lr: 0.001815  loss: 0.4411 (0.9673)  loss_classifier: 0.0439 (0.1147)  loss_box_reg: 0.0589 (0.0861)  loss_mask: 0.2886 (0.7352)  loss_objectness: 0.0044 (0.0187)  loss_rpn_box_reg: 0.0029 (0.0127)  time: 0.4660  data: 0.2783  max mem: 1686\n",
      "Epoch: [0]  [ 79/219]  eta: 0:01:23  lr: 0.001838  loss: 0.4052 (0.9589)  loss_classifier: 0.0437 (0.1136)  loss_box_reg: 0.0589 (0.0862)  loss_mask: 0.2397 (0.7281)  loss_objectness: 0.0044 (0.0186)  loss_rpn_box_reg: 0.0029 (0.0125)  time: 0.4672  data: 0.2783  max mem: 1686\n",
      "Epoch: [0]  [ 80/219]  eta: 0:01:22  lr: 0.001861  loss: 0.4052 (0.9512)  loss_classifier: 0.0437 (0.1128)  loss_box_reg: 0.0589 (0.0862)  loss_mask: 0.2397 (0.7214)  loss_objectness: 0.0042 (0.0183)  loss_rpn_box_reg: 0.0028 (0.0124)  time: 0.4297  data: 0.2417  max mem: 1686\n",
      "Epoch: [0]  [ 81/219]  eta: 0:01:20  lr: 0.001884  loss: 0.4052 (0.9429)  loss_classifier: 0.0437 (0.1118)  loss_box_reg: 0.0582 (0.0857)  loss_mask: 0.2397 (0.7150)  loss_objectness: 0.0035 (0.0181)  loss_rpn_box_reg: 0.0028 (0.0123)  time: 0.4295  data: 0.2417  max mem: 1686\n",
      "Epoch: [0]  [ 82/219]  eta: 0:01:29  lr: 0.001907  loss: 0.4411 (0.9378)  loss_classifier: 0.0437 (0.1109)  loss_box_reg: 0.0582 (0.0855)  loss_mask: 0.2922 (0.7112)  loss_objectness: 0.0035 (0.0180)  loss_rpn_box_reg: 0.0028 (0.0124)  time: 0.6407  data: 0.4527  max mem: 1686\n",
      "Epoch: [0]  [ 83/219]  eta: 0:01:28  lr: 0.001930  loss: 0.4411 (0.9332)  loss_classifier: 0.0437 (0.1099)  loss_box_reg: 0.0582 (0.0851)  loss_mask: 0.2922 (0.7080)  loss_objectness: 0.0042 (0.0178)  loss_rpn_box_reg: 0.0029 (0.0123)  time: 0.6442  data: 0.4527  max mem: 1686\n",
      "Epoch: [0]  [ 84/219]  eta: 0:01:26  lr: 0.001953  loss: 0.4411 (0.9298)  loss_classifier: 0.0437 (0.1090)  loss_box_reg: 0.0589 (0.0850)  loss_mask: 0.2922 (0.7054)  loss_objectness: 0.0042 (0.0179)  loss_rpn_box_reg: 0.0029 (0.0125)  time: 0.6439  data: 0.4527  max mem: 1686\n",
      "Epoch: [0]  [ 85/219]  eta: 0:01:25  lr: 0.001976  loss: 0.4411 (0.9256)  loss_classifier: 0.0437 (0.1084)  loss_box_reg: 0.0602 (0.0848)  loss_mask: 0.2922 (0.7021)  loss_objectness: 0.0054 (0.0178)  loss_rpn_box_reg: 0.0029 (0.0125)  time: 0.6441  data: 0.4526  max mem: 1686\n",
      "Epoch: [0]  [ 86/219]  eta: 0:01:25  lr: 0.001998  loss: 0.4052 (0.9191)  loss_classifier: 0.0387 (0.1075)  loss_box_reg: 0.0634 (0.0847)  loss_mask: 0.2403 (0.6968)  loss_objectness: 0.0054 (0.0176)  loss_rpn_box_reg: 0.0029 (0.0125)  time: 0.6429  data: 0.4492  max mem: 1686\n",
      "Epoch: [0]  [ 87/219]  eta: 0:01:23  lr: 0.002021  loss: 0.4052 (0.9127)  loss_classifier: 0.0437 (0.1067)  loss_box_reg: 0.0634 (0.0849)  loss_mask: 0.2403 (0.6912)  loss_objectness: 0.0042 (0.0174)  loss_rpn_box_reg: 0.0029 (0.0124)  time: 0.6435  data: 0.4493  max mem: 1686\n",
      "Epoch: [0]  [ 88/219]  eta: 0:01:22  lr: 0.002044  loss: 0.4052 (0.9083)  loss_classifier: 0.0428 (0.1060)  loss_box_reg: 0.0634 (0.0848)  loss_mask: 0.2403 (0.6878)  loss_objectness: 0.0042 (0.0172)  loss_rpn_box_reg: 0.0029 (0.0125)  time: 0.6439  data: 0.4492  max mem: 1686\n",
      "Epoch: [0]  [ 89/219]  eta: 0:01:21  lr: 0.002067  loss: 0.3600 (0.9021)  loss_classifier: 0.0428 (0.1053)  loss_box_reg: 0.0634 (0.0848)  loss_mask: 0.2397 (0.6824)  loss_objectness: 0.0042 (0.0171)  loss_rpn_box_reg: 0.0031 (0.0124)  time: 0.6438  data: 0.4492  max mem: 1686\n",
      "Epoch: [0]  [ 90/219]  eta: 0:01:21  lr: 0.002090  loss: 0.4052 (0.8978)  loss_classifier: 0.0428 (0.1046)  loss_box_reg: 0.0694 (0.0850)  loss_mask: 0.2403 (0.6790)  loss_objectness: 0.0042 (0.0169)  loss_rpn_box_reg: 0.0029 (0.0123)  time: 0.6444  data: 0.4499  max mem: 1686\n",
      "Epoch: [0]  [ 91/219]  eta: 0:01:19  lr: 0.002113  loss: 0.4052 (0.8929)  loss_classifier: 0.0393 (0.1038)  loss_box_reg: 0.0694 (0.0846)  loss_mask: 0.2403 (0.6752)  loss_objectness: 0.0042 (0.0168)  loss_rpn_box_reg: 0.0029 (0.0125)  time: 0.6444  data: 0.4499  max mem: 1686\n",
      "Epoch: [0]  [ 92/219]  eta: 0:01:18  lr: 0.002136  loss: 0.4325 (0.8880)  loss_classifier: 0.0387 (0.1030)  loss_box_reg: 0.0694 (0.0841)  loss_mask: 0.3086 (0.6718)  loss_objectness: 0.0042 (0.0166)  loss_rpn_box_reg: 0.0068 (0.0125)  time: 0.6432  data: 0.4499  max mem: 1686\n",
      "Epoch: [0]  [ 93/219]  eta: 0:01:17  lr: 0.002159  loss: 0.4325 (0.8820)  loss_classifier: 0.0343 (0.1022)  loss_box_reg: 0.0701 (0.0842)  loss_mask: 0.2403 (0.6668)  loss_objectness: 0.0035 (0.0165)  loss_rpn_box_reg: 0.0068 (0.0124)  time: 0.6436  data: 0.4499  max mem: 1686\n",
      "Epoch: [0]  [ 94/219]  eta: 0:01:17  lr: 0.002182  loss: 0.4292 (0.8773)  loss_classifier: 0.0343 (0.1017)  loss_box_reg: 0.0701 (0.0845)  loss_mask: 0.2504 (0.6624)  loss_objectness: 0.0035 (0.0165)  loss_rpn_box_reg: 0.0068 (0.0122)  time: 0.6342  data: 0.4426  max mem: 1686\n",
      "Epoch: [0]  [ 95/219]  eta: 0:01:15  lr: 0.002205  loss: 0.4325 (0.8729)  loss_classifier: 0.0343 (0.1009)  loss_box_reg: 0.0701 (0.0841)  loss_mask: 0.2765 (0.6584)  loss_objectness: 0.0042 (0.0172)  loss_rpn_box_reg: 0.0073 (0.0123)  time: 0.6342  data: 0.4426  max mem: 1686\n",
      "Epoch: [0]  [ 96/219]  eta: 0:01:14  lr: 0.002228  loss: 0.4292 (0.8674)  loss_classifier: 0.0343 (0.1003)  loss_box_reg: 0.0717 (0.0842)  loss_mask: 0.2504 (0.6536)  loss_objectness: 0.0035 (0.0171)  loss_rpn_box_reg: 0.0068 (0.0122)  time: 0.6359  data: 0.4426  max mem: 1686\n",
      "Epoch: [0]  [ 97/219]  eta: 0:01:15  lr: 0.002250  loss: 0.4325 (0.8631)  loss_classifier: 0.0342 (0.0996)  loss_box_reg: 0.0746 (0.0842)  loss_mask: 0.2765 (0.6502)  loss_objectness: 0.0035 (0.0169)  loss_rpn_box_reg: 0.0092 (0.0122)  time: 0.6955  data: 0.5047  max mem: 1686\n",
      "Epoch: [0]  [ 98/219]  eta: 0:01:13  lr: 0.002273  loss: 0.4325 (0.8603)  loss_classifier: 0.0342 (0.0990)  loss_box_reg: 0.0766 (0.0841)  loss_mask: 0.2765 (0.6479)  loss_objectness: 0.0035 (0.0170)  loss_rpn_box_reg: 0.0092 (0.0122)  time: 0.6552  data: 0.4666  max mem: 1686\n",
      "Epoch: [0]  [ 99/219]  eta: 0:01:12  lr: 0.002296  loss: 0.4325 (0.8550)  loss_classifier: 0.0342 (0.0983)  loss_box_reg: 0.0746 (0.0835)  loss_mask: 0.2765 (0.6441)  loss_objectness: 0.0035 (0.0169)  loss_rpn_box_reg: 0.0116 (0.0123)  time: 0.6533  data: 0.4666  max mem: 1686\n",
      "Epoch: [0]  [100/219]  eta: 0:01:11  lr: 0.002319  loss: 0.4325 (0.8493)  loss_classifier: 0.0342 (0.0978)  loss_box_reg: 0.0717 (0.0828)  loss_mask: 0.2765 (0.6393)  loss_objectness: 0.0042 (0.0171)  loss_rpn_box_reg: 0.0121 (0.0123)  time: 0.6539  data: 0.4666  max mem: 1686\n",
      "Epoch: [0]  [101/219]  eta: 0:01:11  lr: 0.002342  loss: 0.4432 (0.8475)  loss_classifier: 0.0342 (0.0969)  loss_box_reg: 0.0717 (0.0820)  loss_mask: 0.3200 (0.6392)  loss_objectness: 0.0042 (0.0170)  loss_rpn_box_reg: 0.0124 (0.0124)  time: 0.6946  data: 0.5109  max mem: 1686\n",
      "Epoch: [0]  [102/219]  eta: 0:01:10  lr: 0.002365  loss: 0.4325 (0.8413)  loss_classifier: 0.0343 (0.0970)  loss_box_reg: 0.0717 (0.0816)  loss_mask: 0.2765 (0.6333)  loss_objectness: 0.0042 (0.0170)  loss_rpn_box_reg: 0.0121 (0.0123)  time: 0.3886  data: 0.2051  max mem: 1686\n",
      "Epoch: [0]  [103/219]  eta: 0:01:09  lr: 0.002388  loss: 0.4292 (0.8369)  loss_classifier: 0.0352 (0.0964)  loss_box_reg: 0.0746 (0.0818)  loss_mask: 0.2651 (0.6295)  loss_objectness: 0.0042 (0.0169)  loss_rpn_box_reg: 0.0121 (0.0122)  time: 0.3890  data: 0.2051  max mem: 1686\n",
      "Epoch: [0]  [104/219]  eta: 0:01:08  lr: 0.002411  loss: 0.3900 (0.8326)  loss_classifier: 0.0393 (0.0960)  loss_box_reg: 0.0766 (0.0820)  loss_mask: 0.2504 (0.6258)  loss_objectness: 0.0042 (0.0168)  loss_rpn_box_reg: 0.0116 (0.0121)  time: 0.3906  data: 0.2052  max mem: 1686\n",
      "Epoch: [0]  [105/219]  eta: 0:01:08  lr: 0.002434  loss: 0.3900 (0.8291)  loss_classifier: 0.0393 (0.0957)  loss_box_reg: 0.0786 (0.0823)  loss_mask: 0.2504 (0.6223)  loss_objectness: 0.0042 (0.0167)  loss_rpn_box_reg: 0.0068 (0.0120)  time: 0.4324  data: 0.2466  max mem: 1686\n",
      "Epoch: [0]  [106/219]  eta: 0:01:10  lr: 0.002457  loss: 0.4292 (0.8259)  loss_classifier: 0.0393 (0.0949)  loss_box_reg: 0.0786 (0.0815)  loss_mask: 0.2588 (0.6208)  loss_objectness: 0.0042 (0.0166)  loss_rpn_box_reg: 0.0068 (0.0121)  time: 0.5365  data: 0.3542  max mem: 1686\n",
      "Epoch: [0]  [107/219]  eta: 0:01:09  lr: 0.002480  loss: 0.4292 (0.8219)  loss_classifier: 0.0393 (0.0944)  loss_box_reg: 0.0786 (0.0819)  loss_mask: 0.2588 (0.6171)  loss_objectness: 0.0042 (0.0165)  loss_rpn_box_reg: 0.0068 (0.0120)  time: 0.5359  data: 0.3541  max mem: 1686\n",
      "Epoch: [0]  [108/219]  eta: 0:01:08  lr: 0.002502  loss: 0.4292 (0.8197)  loss_classifier: 0.0393 (0.0940)  loss_box_reg: 0.0803 (0.0822)  loss_mask: 0.2588 (0.6152)  loss_objectness: 0.0042 (0.0163)  loss_rpn_box_reg: 0.0068 (0.0120)  time: 0.5359  data: 0.3542  max mem: 1686\n",
      "Epoch: [0]  [109/219]  eta: 0:01:07  lr: 0.002525  loss: 0.4292 (0.8145)  loss_classifier: 0.0352 (0.0933)  loss_box_reg: 0.0786 (0.0818)  loss_mask: 0.2588 (0.6113)  loss_objectness: 0.0042 (0.0162)  loss_rpn_box_reg: 0.0061 (0.0119)  time: 0.5358  data: 0.3542  max mem: 1686\n",
      "Epoch: [0]  [110/219]  eta: 0:01:06  lr: 0.002548  loss: 0.3907 (0.8105)  loss_classifier: 0.0352 (0.0929)  loss_box_reg: 0.0786 (0.0827)  loss_mask: 0.2504 (0.6071)  loss_objectness: 0.0033 (0.0161)  loss_rpn_box_reg: 0.0061 (0.0118)  time: 0.5424  data: 0.3607  max mem: 1686\n",
      "Epoch: [0]  [111/219]  eta: 0:01:05  lr: 0.002571  loss: 0.3900 (0.8063)  loss_classifier: 0.0352 (0.0923)  loss_box_reg: 0.0786 (0.0825)  loss_mask: 0.2377 (0.6035)  loss_objectness: 0.0033 (0.0160)  loss_rpn_box_reg: 0.0061 (0.0120)  time: 0.5440  data: 0.3607  max mem: 1686\n",
      "Epoch: [0]  [112/219]  eta: 0:01:04  lr: 0.002594  loss: 0.3900 (0.8028)  loss_classifier: 0.0352 (0.0916)  loss_box_reg: 0.0803 (0.0825)  loss_mask: 0.2377 (0.6009)  loss_objectness: 0.0033 (0.0158)  loss_rpn_box_reg: 0.0049 (0.0120)  time: 0.5458  data: 0.3608  max mem: 1686\n",
      "Epoch: [0]  [113/219]  eta: 0:01:03  lr: 0.002617  loss: 0.3907 (0.8008)  loss_classifier: 0.0352 (0.0911)  loss_box_reg: 0.0803 (0.0825)  loss_mask: 0.2504 (0.5996)  loss_objectness: 0.0033 (0.0157)  loss_rpn_box_reg: 0.0061 (0.0119)  time: 0.5460  data: 0.3608  max mem: 1686\n",
      "Epoch: [0]  [114/219]  eta: 0:01:03  lr: 0.002640  loss: 0.3907 (0.7976)  loss_classifier: 0.0352 (0.0907)  loss_box_reg: 0.0803 (0.0827)  loss_mask: 0.2588 (0.5968)  loss_objectness: 0.0033 (0.0157)  loss_rpn_box_reg: 0.0061 (0.0118)  time: 0.5466  data: 0.3590  max mem: 1686\n",
      "Epoch: [0]  [115/219]  eta: 0:01:02  lr: 0.002663  loss: 0.3907 (0.7941)  loss_classifier: 0.0385 (0.0902)  loss_box_reg: 0.0825 (0.0831)  loss_mask: 0.2377 (0.5935)  loss_objectness: 0.0032 (0.0155)  loss_rpn_box_reg: 0.0049 (0.0118)  time: 0.5473  data: 0.3590  max mem: 1686\n",
      "Epoch: [0]  [116/219]  eta: 0:01:01  lr: 0.002686  loss: 0.3907 (0.7895)  loss_classifier: 0.0352 (0.0896)  loss_box_reg: 0.0803 (0.0827)  loss_mask: 0.2377 (0.5901)  loss_objectness: 0.0032 (0.0154)  loss_rpn_box_reg: 0.0049 (0.0117)  time: 0.5465  data: 0.3590  max mem: 1686\n",
      "Epoch: [0]  [117/219]  eta: 0:01:00  lr: 0.002709  loss: 0.3900 (0.7852)  loss_classifier: 0.0352 (0.0891)  loss_box_reg: 0.0786 (0.0824)  loss_mask: 0.2339 (0.5868)  loss_objectness: 0.0032 (0.0153)  loss_rpn_box_reg: 0.0046 (0.0116)  time: 0.4865  data: 0.2969  max mem: 1686\n",
      "Epoch: [0]  [118/219]  eta: 0:01:00  lr: 0.002732  loss: 0.3857 (0.7818)  loss_classifier: 0.0352 (0.0888)  loss_box_reg: 0.0825 (0.0827)  loss_mask: 0.2230 (0.5837)  loss_objectness: 0.0018 (0.0151)  loss_rpn_box_reg: 0.0033 (0.0115)  time: 0.5191  data: 0.3270  max mem: 1686\n",
      "Epoch: [0]  [119/219]  eta: 0:00:59  lr: 0.002755  loss: 0.3857 (0.7781)  loss_classifier: 0.0352 (0.0883)  loss_box_reg: 0.0825 (0.0827)  loss_mask: 0.2230 (0.5807)  loss_objectness: 0.0018 (0.0150)  loss_rpn_box_reg: 0.0032 (0.0114)  time: 0.5213  data: 0.3270  max mem: 1686\n",
      "Epoch: [0]  [120/219]  eta: 0:00:59  lr: 0.002777  loss: 0.3857 (0.7742)  loss_classifier: 0.0278 (0.0877)  loss_box_reg: 0.0825 (0.0824)  loss_mask: 0.2230 (0.5777)  loss_objectness: 0.0018 (0.0150)  loss_rpn_box_reg: 0.0032 (0.0114)  time: 0.5901  data: 0.3958  max mem: 1686\n",
      "Epoch: [0]  [121/219]  eta: 0:00:58  lr: 0.002800  loss: 0.3857 (0.7712)  loss_classifier: 0.0278 (0.0872)  loss_box_reg: 0.0825 (0.0823)  loss_mask: 0.2230 (0.5754)  loss_objectness: 0.0018 (0.0149)  loss_rpn_box_reg: 0.0032 (0.0114)  time: 0.5482  data: 0.3515  max mem: 1686\n",
      "Epoch: [0]  [122/219]  eta: 0:00:57  lr: 0.002823  loss: 0.3857 (0.7670)  loss_classifier: 0.0266 (0.0867)  loss_box_reg: 0.0825 (0.0820)  loss_mask: 0.2230 (0.5722)  loss_objectness: 0.0018 (0.0149)  loss_rpn_box_reg: 0.0030 (0.0113)  time: 0.5483  data: 0.3515  max mem: 1686\n",
      "Epoch: [0]  [123/219]  eta: 0:00:56  lr: 0.002846  loss: 0.3900 (0.7711)  loss_classifier: 0.0265 (0.0861)  loss_box_reg: 0.0737 (0.0813)  loss_mask: 0.2230 (0.5722)  loss_objectness: 0.0019 (0.0184)  loss_rpn_box_reg: 0.0032 (0.0131)  time: 0.5475  data: 0.3515  max mem: 1686\n",
      "Epoch: [0]  [124/219]  eta: 0:00:58  lr: 0.002869  loss: 0.3877 (0.7680)  loss_classifier: 0.0265 (0.0858)  loss_box_reg: 0.0653 (0.0809)  loss_mask: 0.2230 (0.5701)  loss_objectness: 0.0019 (0.0183)  loss_rpn_box_reg: 0.0046 (0.0131)  time: 0.7405  data: 0.5462  max mem: 1686\n",
      "Epoch: [0]  [125/219]  eta: 0:00:57  lr: 0.002892  loss: 0.3787 (0.7646)  loss_classifier: 0.0265 (0.0854)  loss_box_reg: 0.0640 (0.0807)  loss_mask: 0.2205 (0.5672)  loss_objectness: 0.0019 (0.0184)  loss_rpn_box_reg: 0.0046 (0.0130)  time: 0.6992  data: 0.5048  max mem: 1686\n",
      "Epoch: [0]  [126/219]  eta: 0:00:56  lr: 0.002915  loss: 0.3787 (0.7621)  loss_classifier: 0.0266 (0.0851)  loss_box_reg: 0.0653 (0.0807)  loss_mask: 0.2205 (0.5651)  loss_objectness: 0.0018 (0.0183)  loss_rpn_box_reg: 0.0046 (0.0130)  time: 0.5619  data: 0.3641  max mem: 1686\n",
      "Epoch: [0]  [127/219]  eta: 0:00:55  lr: 0.002938  loss: 0.3787 (0.7601)  loss_classifier: 0.0266 (0.0847)  loss_box_reg: 0.0653 (0.0806)  loss_mask: 0.2230 (0.5631)  loss_objectness: 0.0019 (0.0187)  loss_rpn_box_reg: 0.0046 (0.0129)  time: 0.5595  data: 0.3641  max mem: 1686\n",
      "Epoch: [0]  [128/219]  eta: 0:00:55  lr: 0.002961  loss: 0.3787 (0.7584)  loss_classifier: 0.0266 (0.0844)  loss_box_reg: 0.0640 (0.0801)  loss_mask: 0.2230 (0.5621)  loss_objectness: 0.0029 (0.0189)  loss_rpn_box_reg: 0.0035 (0.0128)  time: 0.5916  data: 0.3968  max mem: 1686\n",
      "Epoch: [0]  [129/219]  eta: 0:00:54  lr: 0.002984  loss: 0.3877 (0.7572)  loss_classifier: 0.0278 (0.0840)  loss_box_reg: 0.0640 (0.0798)  loss_mask: 0.2346 (0.5609)  loss_objectness: 0.0029 (0.0195)  loss_rpn_box_reg: 0.0035 (0.0129)  time: 0.5898  data: 0.3968  max mem: 1686\n",
      "Epoch: [0]  [130/219]  eta: 0:00:53  lr: 0.003007  loss: 0.3922 (0.7547)  loss_classifier: 0.0278 (0.0840)  loss_box_reg: 0.0640 (0.0799)  loss_mask: 0.2346 (0.5583)  loss_objectness: 0.0042 (0.0197)  loss_rpn_box_reg: 0.0035 (0.0128)  time: 0.5507  data: 0.3577  max mem: 1686\n",
      "Epoch: [0]  [131/219]  eta: 0:00:52  lr: 0.003029  loss: 0.4054 (0.7521)  loss_classifier: 0.0278 (0.0835)  loss_box_reg: 0.0640 (0.0797)  loss_mask: 0.2721 (0.5563)  loss_objectness: 0.0029 (0.0195)  loss_rpn_box_reg: 0.0035 (0.0131)  time: 0.5510  data: 0.3577  max mem: 1686\n",
      "Epoch: [0]  [132/219]  eta: 0:00:52  lr: 0.003052  loss: 0.4054 (0.7506)  loss_classifier: 0.0338 (0.0832)  loss_box_reg: 0.0640 (0.0796)  loss_mask: 0.2721 (0.5550)  loss_objectness: 0.0042 (0.0195)  loss_rpn_box_reg: 0.0035 (0.0132)  time: 0.5861  data: 0.3943  max mem: 1686\n",
      "Epoch: [0]  [133/219]  eta: 0:00:51  lr: 0.003075  loss: 0.3922 (0.7473)  loss_classifier: 0.0349 (0.0829)  loss_box_reg: 0.0640 (0.0797)  loss_mask: 0.2346 (0.5523)  loss_objectness: 0.0042 (0.0194)  loss_rpn_box_reg: 0.0035 (0.0132)  time: 0.5856  data: 0.3943  max mem: 1686\n",
      "Epoch: [0]  [134/219]  eta: 0:00:51  lr: 0.003098  loss: 0.3922 (0.7450)  loss_classifier: 0.0349 (0.0828)  loss_box_reg: 0.0590 (0.0795)  loss_mask: 0.2346 (0.5500)  loss_objectness: 0.0042 (0.0196)  loss_rpn_box_reg: 0.0057 (0.0132)  time: 0.6156  data: 0.4247  max mem: 1686\n",
      "Epoch: [0]  [135/219]  eta: 0:00:50  lr: 0.003121  loss: 0.4054 (0.7430)  loss_classifier: 0.0349 (0.0826)  loss_box_reg: 0.0590 (0.0797)  loss_mask: 0.2455 (0.5482)  loss_objectness: 0.0082 (0.0195)  loss_rpn_box_reg: 0.0057 (0.0131)  time: 0.6129  data: 0.4247  max mem: 1686\n",
      "Epoch: [0]  [136/219]  eta: 0:00:49  lr: 0.003144  loss: 0.4123 (0.7416)  loss_classifier: 0.0358 (0.0829)  loss_box_reg: 0.0640 (0.0796)  loss_mask: 0.2976 (0.5467)  loss_objectness: 0.0082 (0.0194)  loss_rpn_box_reg: 0.0065 (0.0130)  time: 0.6113  data: 0.4247  max mem: 1686\n",
      "Epoch: [0]  [137/219]  eta: 0:00:48  lr: 0.003167  loss: 0.4127 (0.7392)  loss_classifier: 0.0391 (0.0833)  loss_box_reg: 0.0653 (0.0796)  loss_mask: 0.2976 (0.5440)  loss_objectness: 0.0082 (0.0193)  loss_rpn_box_reg: 0.0065 (0.0130)  time: 0.6077  data: 0.4247  max mem: 1686\n",
      "Epoch: [0]  [138/219]  eta: 0:00:48  lr: 0.003190  loss: 0.4127 (0.7361)  loss_classifier: 0.0358 (0.0829)  loss_box_reg: 0.0653 (0.0798)  loss_mask: 0.2976 (0.5413)  loss_objectness: 0.0082 (0.0191)  loss_rpn_box_reg: 0.0065 (0.0129)  time: 0.6265  data: 0.4432  max mem: 1686\n",
      "Epoch: [0]  [139/219]  eta: 0:00:47  lr: 0.003213  loss: 0.4127 (0.7328)  loss_classifier: 0.0391 (0.0827)  loss_box_reg: 0.0640 (0.0796)  loss_mask: 0.2976 (0.5386)  loss_objectness: 0.0082 (0.0190)  loss_rpn_box_reg: 0.0065 (0.0128)  time: 0.6259  data: 0.4432  max mem: 1686\n",
      "Epoch: [0]  [140/219]  eta: 0:00:46  lr: 0.003236  loss: 0.4127 (0.7297)  loss_classifier: 0.0391 (0.0824)  loss_box_reg: 0.0640 (0.0794)  loss_mask: 0.2976 (0.5361)  loss_objectness: 0.0042 (0.0189)  loss_rpn_box_reg: 0.0065 (0.0129)  time: 0.5578  data: 0.3744  max mem: 1686\n",
      "Epoch: [0]  [141/219]  eta: 0:00:46  lr: 0.003259  loss: 0.4127 (0.7261)  loss_classifier: 0.0391 (0.0821)  loss_box_reg: 0.0590 (0.0793)  loss_mask: 0.2455 (0.5332)  loss_objectness: 0.0042 (0.0187)  loss_rpn_box_reg: 0.0057 (0.0128)  time: 0.5589  data: 0.3744  max mem: 1686\n",
      "Epoch: [0]  [142/219]  eta: 0:00:45  lr: 0.003282  loss: 0.4288 (0.7241)  loss_classifier: 0.0422 (0.0818)  loss_box_reg: 0.0640 (0.0792)  loss_mask: 0.2669 (0.5313)  loss_objectness: 0.0042 (0.0187)  loss_rpn_box_reg: 0.0065 (0.0132)  time: 0.5879  data: 0.4053  max mem: 1686\n",
      "Epoch: [0]  [143/219]  eta: 0:00:44  lr: 0.003304  loss: 0.4288 (0.7221)  loss_classifier: 0.0422 (0.0815)  loss_box_reg: 0.0640 (0.0790)  loss_mask: 0.2669 (0.5299)  loss_objectness: 0.0029 (0.0185)  loss_rpn_box_reg: 0.0065 (0.0131)  time: 0.5883  data: 0.4053  max mem: 1686\n",
      "Epoch: [0]  [144/219]  eta: 0:00:44  lr: 0.003327  loss: 0.4328 (0.7201)  loss_classifier: 0.0422 (0.0813)  loss_box_reg: 0.0640 (0.0788)  loss_mask: 0.2669 (0.5282)  loss_objectness: 0.0042 (0.0186)  loss_rpn_box_reg: 0.0065 (0.0132)  time: 0.3951  data: 0.2106  max mem: 1686\n",
      "Epoch: [0]  [145/219]  eta: 0:00:43  lr: 0.003350  loss: 0.4328 (0.7170)  loss_classifier: 0.0422 (0.0810)  loss_box_reg: 0.0678 (0.0789)  loss_mask: 0.2669 (0.5255)  loss_objectness: 0.0020 (0.0184)  loss_rpn_box_reg: 0.0065 (0.0131)  time: 0.3953  data: 0.2106  max mem: 1686\n",
      "Epoch: [0]  [146/219]  eta: 0:00:42  lr: 0.003373  loss: 0.4288 (0.7139)  loss_classifier: 0.0394 (0.0806)  loss_box_reg: 0.0590 (0.0787)  loss_mask: 0.2455 (0.5231)  loss_objectness: 0.0042 (0.0184)  loss_rpn_box_reg: 0.0058 (0.0131)  time: 0.4261  data: 0.2435  max mem: 1686\n",
      "Epoch: [0]  [147/219]  eta: 0:00:42  lr: 0.003396  loss: 0.4127 (0.7116)  loss_classifier: 0.0394 (0.0803)  loss_box_reg: 0.0580 (0.0785)  loss_mask: 0.2455 (0.5215)  loss_objectness: 0.0042 (0.0183)  loss_rpn_box_reg: 0.0058 (0.0131)  time: 0.4280  data: 0.2436  max mem: 1686\n",
      "Epoch: [0]  [148/219]  eta: 0:00:41  lr: 0.003419  loss: 0.4123 (0.7093)  loss_classifier: 0.0394 (0.0800)  loss_box_reg: 0.0580 (0.0783)  loss_mask: 0.2455 (0.5197)  loss_objectness: 0.0042 (0.0182)  loss_rpn_box_reg: 0.0065 (0.0131)  time: 0.3941  data: 0.2108  max mem: 1686\n",
      "Epoch: [0]  [149/219]  eta: 0:00:40  lr: 0.003442  loss: 0.3809 (0.7070)  loss_classifier: 0.0391 (0.0796)  loss_box_reg: 0.0590 (0.0783)  loss_mask: 0.2455 (0.5179)  loss_objectness: 0.0042 (0.0181)  loss_rpn_box_reg: 0.0058 (0.0131)  time: 0.3964  data: 0.2108  max mem: 1686\n",
      "Epoch: [0]  [150/219]  eta: 0:00:40  lr: 0.003465  loss: 0.3809 (0.7110)  loss_classifier: 0.0391 (0.0798)  loss_box_reg: 0.0580 (0.0780)  loss_mask: 0.2534 (0.5213)  loss_objectness: 0.0042 (0.0188)  loss_rpn_box_reg: 0.0065 (0.0131)  time: 0.4307  data: 0.2453  max mem: 1686\n",
      "Epoch: [0]  [151/219]  eta: 0:00:39  lr: 0.003488  loss: 0.3662 (0.7084)  loss_classifier: 0.0394 (0.0796)  loss_box_reg: 0.0590 (0.0782)  loss_mask: 0.2455 (0.5188)  loss_objectness: 0.0042 (0.0187)  loss_rpn_box_reg: 0.0058 (0.0130)  time: 0.4304  data: 0.2453  max mem: 1686\n",
      "Epoch: [0]  [152/219]  eta: 0:00:39  lr: 0.003511  loss: 0.3627 (0.7054)  loss_classifier: 0.0391 (0.0792)  loss_box_reg: 0.0580 (0.0779)  loss_mask: 0.1848 (0.5166)  loss_objectness: 0.0042 (0.0187)  loss_rpn_box_reg: 0.0058 (0.0130)  time: 0.5427  data: 0.3567  max mem: 1686\n",
      "Epoch: [0]  [153/219]  eta: 0:00:39  lr: 0.003534  loss: 0.3662 (0.7048)  loss_classifier: 0.0394 (0.0792)  loss_box_reg: 0.0580 (0.0779)  loss_mask: 0.2455 (0.5157)  loss_objectness: 0.0048 (0.0189)  loss_rpn_box_reg: 0.0058 (0.0130)  time: 0.5404  data: 0.3566  max mem: 1686\n",
      "Epoch: [0]  [154/219]  eta: 0:00:38  lr: 0.003556  loss: 0.3662 (0.7027)  loss_classifier: 0.0384 (0.0789)  loss_box_reg: 0.0580 (0.0779)  loss_mask: 0.2534 (0.5142)  loss_objectness: 0.0045 (0.0188)  loss_rpn_box_reg: 0.0058 (0.0130)  time: 0.4797  data: 0.2958  max mem: 1686\n",
      "Epoch: [0]  [155/219]  eta: 0:00:37  lr: 0.003579  loss: 0.3662 (0.7016)  loss_classifier: 0.0382 (0.0786)  loss_box_reg: 0.0580 (0.0779)  loss_mask: 0.2534 (0.5133)  loss_objectness: 0.0045 (0.0187)  loss_rpn_box_reg: 0.0058 (0.0131)  time: 0.4819  data: 0.2958  max mem: 1686\n",
      "Epoch: [0]  [156/219]  eta: 0:00:37  lr: 0.003602  loss: 0.3662 (0.7004)  loss_classifier: 0.0353 (0.0782)  loss_box_reg: 0.0580 (0.0778)  loss_mask: 0.2534 (0.5128)  loss_objectness: 0.0045 (0.0186)  loss_rpn_box_reg: 0.0058 (0.0130)  time: 0.5154  data: 0.3273  max mem: 1686\n",
      "Epoch: [0]  [157/219]  eta: 0:00:36  lr: 0.003625  loss: 0.3627 (0.6979)  loss_classifier: 0.0319 (0.0779)  loss_box_reg: 0.0580 (0.0775)  loss_mask: 0.2534 (0.5111)  loss_objectness: 0.0045 (0.0185)  loss_rpn_box_reg: 0.0058 (0.0130)  time: 0.5190  data: 0.3273  max mem: 1686\n",
      "Epoch: [0]  [158/219]  eta: 0:00:35  lr: 0.003648  loss: 0.3627 (0.6948)  loss_classifier: 0.0319 (0.0775)  loss_box_reg: 0.0569 (0.0772)  loss_mask: 0.2534 (0.5088)  loss_objectness: 0.0045 (0.0184)  loss_rpn_box_reg: 0.0058 (0.0129)  time: 0.4703  data: 0.2787  max mem: 1686\n",
      "Epoch: [0]  [159/219]  eta: 0:00:34  lr: 0.003671  loss: 0.3627 (0.6925)  loss_classifier: 0.0319 (0.0774)  loss_box_reg: 0.0580 (0.0773)  loss_mask: 0.2534 (0.5068)  loss_objectness: 0.0045 (0.0183)  loss_rpn_box_reg: 0.0058 (0.0128)  time: 0.4712  data: 0.2787  max mem: 1686\n",
      "Epoch: [0]  [160/219]  eta: 0:00:34  lr: 0.003694  loss: 0.3627 (0.6902)  loss_classifier: 0.0319 (0.0770)  loss_box_reg: 0.0575 (0.0772)  loss_mask: 0.2534 (0.5049)  loss_objectness: 0.0048 (0.0183)  loss_rpn_box_reg: 0.0058 (0.0128)  time: 0.5152  data: 0.3240  max mem: 1686\n",
      "Epoch: [0]  [161/219]  eta: 0:00:33  lr: 0.003717  loss: 0.3627 (0.6881)  loss_classifier: 0.0293 (0.0766)  loss_box_reg: 0.0575 (0.0771)  loss_mask: 0.2534 (0.5033)  loss_objectness: 0.0055 (0.0183)  loss_rpn_box_reg: 0.0058 (0.0128)  time: 0.5148  data: 0.3240  max mem: 1686\n",
      "Epoch: [0]  [162/219]  eta: 0:00:33  lr: 0.003740  loss: 0.3617 (0.6861)  loss_classifier: 0.0293 (0.0764)  loss_box_reg: 0.0575 (0.0771)  loss_mask: 0.2507 (0.5017)  loss_objectness: 0.0048 (0.0182)  loss_rpn_box_reg: 0.0058 (0.0127)  time: 0.4856  data: 0.2931  max mem: 1686\n",
      "Epoch: [0]  [163/219]  eta: 0:00:32  lr: 0.003763  loss: 0.3462 (0.6832)  loss_classifier: 0.0279 (0.0761)  loss_box_reg: 0.0575 (0.0769)  loss_mask: 0.2472 (0.4995)  loss_objectness: 0.0048 (0.0181)  loss_rpn_box_reg: 0.0049 (0.0127)  time: 0.4857  data: 0.2931  max mem: 1686\n",
      "Epoch: [0]  [164/219]  eta: 0:00:31  lr: 0.003786  loss: 0.3275 (0.6807)  loss_classifier: 0.0276 (0.0758)  loss_box_reg: 0.0593 (0.0768)  loss_mask: 0.2381 (0.4975)  loss_objectness: 0.0045 (0.0179)  loss_rpn_box_reg: 0.0043 (0.0126)  time: 0.5151  data: 0.3234  max mem: 1686\n",
      "Epoch: [0]  [165/219]  eta: 0:00:31  lr: 0.003809  loss: 0.3355 (0.6786)  loss_classifier: 0.0276 (0.0755)  loss_box_reg: 0.0575 (0.0767)  loss_mask: 0.2381 (0.4958)  loss_objectness: 0.0047 (0.0179)  loss_rpn_box_reg: 0.0043 (0.0127)  time: 0.5143  data: 0.3234  max mem: 1686\n",
      "Epoch: [0]  [166/219]  eta: 0:00:30  lr: 0.003831  loss: 0.3355 (0.6752)  loss_classifier: 0.0279 (0.0755)  loss_box_reg: 0.0575 (0.0762)  loss_mask: 0.2381 (0.4930)  loss_objectness: 0.0047 (0.0179)  loss_rpn_box_reg: 0.0043 (0.0126)  time: 0.4834  data: 0.2905  max mem: 1686\n",
      "Epoch: [0]  [167/219]  eta: 0:00:29  lr: 0.003854  loss: 0.3355 (0.6735)  loss_classifier: 0.0279 (0.0752)  loss_box_reg: 0.0593 (0.0763)  loss_mask: 0.2381 (0.4916)  loss_objectness: 0.0045 (0.0178)  loss_rpn_box_reg: 0.0043 (0.0126)  time: 0.4842  data: 0.2905  max mem: 1686\n",
      "Epoch: [0]  [168/219]  eta: 0:00:29  lr: 0.003877  loss: 0.3275 (0.6713)  loss_classifier: 0.0279 (0.0752)  loss_box_reg: 0.0603 (0.0763)  loss_mask: 0.2190 (0.4896)  loss_objectness: 0.0045 (0.0178)  loss_rpn_box_reg: 0.0040 (0.0125)  time: 0.5187  data: 0.3235  max mem: 1686\n",
      "Epoch: [0]  [169/219]  eta: 0:00:28  lr: 0.003900  loss: 0.3275 (0.6694)  loss_classifier: 0.0279 (0.0749)  loss_box_reg: 0.0603 (0.0762)  loss_mask: 0.2190 (0.4882)  loss_objectness: 0.0036 (0.0177)  loss_rpn_box_reg: 0.0035 (0.0125)  time: 0.5167  data: 0.3235  max mem: 1686\n",
      "Epoch: [0]  [170/219]  eta: 0:00:27  lr: 0.003923  loss: 0.3275 (0.6683)  loss_classifier: 0.0279 (0.0746)  loss_box_reg: 0.0603 (0.0761)  loss_mask: 0.2190 (0.4874)  loss_objectness: 0.0036 (0.0177)  loss_rpn_box_reg: 0.0035 (0.0124)  time: 0.4823  data: 0.2890  max mem: 1686\n",
      "Epoch: [0]  [171/219]  eta: 0:00:27  lr: 0.003946  loss: 0.3275 (0.6663)  loss_classifier: 0.0276 (0.0743)  loss_box_reg: 0.0593 (0.0760)  loss_mask: 0.2381 (0.4860)  loss_objectness: 0.0036 (0.0176)  loss_rpn_box_reg: 0.0033 (0.0124)  time: 0.5791  data: 0.3863  max mem: 1686\n",
      "Epoch: [0]  [172/219]  eta: 0:00:27  lr: 0.003969  loss: 0.3355 (0.6645)  loss_classifier: 0.0279 (0.0740)  loss_box_reg: 0.0603 (0.0760)  loss_mask: 0.2421 (0.4847)  loss_objectness: 0.0026 (0.0175)  loss_rpn_box_reg: 0.0035 (0.0123)  time: 0.4296  data: 0.2383  max mem: 1686\n",
      "Epoch: [0]  [173/219]  eta: 0:00:26  lr: 0.003992  loss: 0.3275 (0.6622)  loss_classifier: 0.0279 (0.0738)  loss_box_reg: 0.0593 (0.0758)  loss_mask: 0.2381 (0.4829)  loss_objectness: 0.0026 (0.0175)  loss_rpn_box_reg: 0.0035 (0.0123)  time: 0.4316  data: 0.2383  max mem: 1686\n",
      "Epoch: [0]  [174/219]  eta: 0:00:25  lr: 0.004015  loss: 0.3230 (0.6602)  loss_classifier: 0.0279 (0.0735)  loss_box_reg: 0.0581 (0.0757)  loss_mask: 0.2190 (0.4813)  loss_objectness: 0.0025 (0.0174)  loss_rpn_box_reg: 0.0035 (0.0122)  time: 0.4312  data: 0.2384  max mem: 1686\n",
      "Epoch: [0]  [175/219]  eta: 0:00:25  lr: 0.004038  loss: 0.3230 (0.6581)  loss_classifier: 0.0279 (0.0732)  loss_box_reg: 0.0575 (0.0755)  loss_mask: 0.2184 (0.4798)  loss_objectness: 0.0021 (0.0173)  loss_rpn_box_reg: 0.0035 (0.0122)  time: 0.4620  data: 0.2691  max mem: 1686\n",
      "Epoch: [0]  [176/219]  eta: 0:00:24  lr: 0.004061  loss: 0.3230 (0.6563)  loss_classifier: 0.0279 (0.0729)  loss_box_reg: 0.0567 (0.0753)  loss_mask: 0.2184 (0.4787)  loss_objectness: 0.0025 (0.0172)  loss_rpn_box_reg: 0.0033 (0.0121)  time: 0.4284  data: 0.2377  max mem: 1686\n",
      "Epoch: [0]  [177/219]  eta: 0:00:23  lr: 0.004083  loss: 0.3230 (0.6553)  loss_classifier: 0.0285 (0.0729)  loss_box_reg: 0.0567 (0.0752)  loss_mask: 0.2184 (0.4777)  loss_objectness: 0.0026 (0.0172)  loss_rpn_box_reg: 0.0033 (0.0123)  time: 0.4280  data: 0.2377  max mem: 1686\n",
      "Epoch: [0]  [178/219]  eta: 0:00:23  lr: 0.004106  loss: 0.3230 (0.6529)  loss_classifier: 0.0285 (0.0725)  loss_box_reg: 0.0567 (0.0750)  loss_mask: 0.2184 (0.4760)  loss_objectness: 0.0025 (0.0171)  loss_rpn_box_reg: 0.0033 (0.0123)  time: 0.4281  data: 0.2377  max mem: 1686\n",
      "Epoch: [0]  [179/219]  eta: 0:00:22  lr: 0.004129  loss: 0.3230 (0.6515)  loss_classifier: 0.0285 (0.0723)  loss_box_reg: 0.0567 (0.0749)  loss_mask: 0.2190 (0.4748)  loss_objectness: 0.0026 (0.0171)  loss_rpn_box_reg: 0.0035 (0.0123)  time: 0.4604  data: 0.2715  max mem: 1686\n",
      "Epoch: [0]  [180/219]  eta: 0:00:22  lr: 0.004152  loss: 0.3355 (0.6506)  loss_classifier: 0.0294 (0.0722)  loss_box_reg: 0.0567 (0.0749)  loss_mask: 0.2381 (0.4740)  loss_objectness: 0.0026 (0.0171)  loss_rpn_box_reg: 0.0035 (0.0125)  time: 0.4142  data: 0.2261  max mem: 1686\n",
      "Epoch: [0]  [181/219]  eta: 0:00:21  lr: 0.004175  loss: 0.3230 (0.6486)  loss_classifier: 0.0294 (0.0719)  loss_box_reg: 0.0567 (0.0748)  loss_mask: 0.2190 (0.4724)  loss_objectness: 0.0025 (0.0170)  loss_rpn_box_reg: 0.0035 (0.0124)  time: 0.4146  data: 0.2261  max mem: 1686\n",
      "Epoch: [0]  [182/219]  eta: 0:00:20  lr: 0.004198  loss: 0.3082 (0.6466)  loss_classifier: 0.0285 (0.0717)  loss_box_reg: 0.0554 (0.0747)  loss_mask: 0.2184 (0.4709)  loss_objectness: 0.0026 (0.0169)  loss_rpn_box_reg: 0.0035 (0.0124)  time: 0.4148  data: 0.2261  max mem: 1686\n",
      "Epoch: [0]  [183/219]  eta: 0:00:20  lr: 0.004221  loss: 0.3082 (0.6447)  loss_classifier: 0.0294 (0.0715)  loss_box_reg: 0.0554 (0.0745)  loss_mask: 0.2184 (0.4695)  loss_objectness: 0.0026 (0.0168)  loss_rpn_box_reg: 0.0038 (0.0124)  time: 0.4519  data: 0.2655  max mem: 1686\n",
      "Epoch: [0]  [184/219]  eta: 0:00:19  lr: 0.004244  loss: 0.3230 (0.6435)  loss_classifier: 0.0294 (0.0712)  loss_box_reg: 0.0541 (0.0744)  loss_mask: 0.2190 (0.4686)  loss_objectness: 0.0034 (0.0168)  loss_rpn_box_reg: 0.0040 (0.0125)  time: 0.4228  data: 0.2352  max mem: 1686\n",
      "Epoch: [0]  [185/219]  eta: 0:00:19  lr: 0.004267  loss: 0.3230 (0.6459)  loss_classifier: 0.0285 (0.0709)  loss_box_reg: 0.0541 (0.0740)  loss_mask: 0.2421 (0.4716)  loss_objectness: 0.0034 (0.0169)  loss_rpn_box_reg: 0.0040 (0.0124)  time: 0.4232  data: 0.2352  max mem: 1686\n",
      "Epoch: [0]  [186/219]  eta: 0:00:18  lr: 0.004290  loss: 0.3230 (0.6440)  loss_classifier: 0.0274 (0.0707)  loss_box_reg: 0.0541 (0.0737)  loss_mask: 0.2494 (0.4705)  loss_objectness: 0.0026 (0.0168)  loss_rpn_box_reg: 0.0040 (0.0124)  time: 0.4234  data: 0.2352  max mem: 1686\n",
      "Epoch: [0]  [187/219]  eta: 0:00:18  lr: 0.004313  loss: 0.3230 (0.6435)  loss_classifier: 0.0274 (0.0705)  loss_box_reg: 0.0531 (0.0736)  loss_mask: 0.2494 (0.4703)  loss_objectness: 0.0034 (0.0167)  loss_rpn_box_reg: 0.0040 (0.0123)  time: 0.5488  data: 0.3625  max mem: 1686\n",
      "Epoch: [0]  [188/219]  eta: 0:00:17  lr: 0.004336  loss: 0.3230 (0.6417)  loss_classifier: 0.0271 (0.0702)  loss_box_reg: 0.0531 (0.0735)  loss_mask: 0.2494 (0.4690)  loss_objectness: 0.0026 (0.0167)  loss_rpn_box_reg: 0.0040 (0.0123)  time: 0.5132  data: 0.3295  max mem: 1686\n",
      "Epoch: [0]  [189/219]  eta: 0:00:16  lr: 0.004358  loss: 0.3230 (0.6403)  loss_classifier: 0.0274 (0.0702)  loss_box_reg: 0.0525 (0.0734)  loss_mask: 0.2494 (0.4679)  loss_objectness: 0.0034 (0.0166)  loss_rpn_box_reg: 0.0046 (0.0123)  time: 0.5150  data: 0.3295  max mem: 1686\n",
      "Epoch: [0]  [190/219]  eta: 0:00:16  lr: 0.004381  loss: 0.3148 (0.6384)  loss_classifier: 0.0271 (0.0699)  loss_box_reg: 0.0497 (0.0731)  loss_mask: 0.2421 (0.4665)  loss_objectness: 0.0034 (0.0166)  loss_rpn_box_reg: 0.0041 (0.0122)  time: 0.5142  data: 0.3295  max mem: 1686\n",
      "Epoch: [0]  [191/219]  eta: 0:00:15  lr: 0.004404  loss: 0.3148 (0.6369)  loss_classifier: 0.0274 (0.0698)  loss_box_reg: 0.0497 (0.0732)  loss_mask: 0.2337 (0.4653)  loss_objectness: 0.0034 (0.0165)  loss_rpn_box_reg: 0.0041 (0.0121)  time: 0.4543  data: 0.2688  max mem: 1686\n",
      "Epoch: [0]  [192/219]  eta: 0:00:15  lr: 0.004427  loss: 0.3148 (0.6363)  loss_classifier: 0.0274 (0.0697)  loss_box_reg: 0.0497 (0.0730)  loss_mask: 0.2337 (0.4647)  loss_objectness: 0.0040 (0.0165)  loss_rpn_box_reg: 0.0046 (0.0124)  time: 0.4535  data: 0.2688  max mem: 1686\n",
      "Epoch: [0]  [193/219]  eta: 0:00:14  lr: 0.004450  loss: 0.3441 (0.6350)  loss_classifier: 0.0271 (0.0695)  loss_box_reg: 0.0496 (0.0729)  loss_mask: 0.2494 (0.4639)  loss_objectness: 0.0034 (0.0164)  loss_rpn_box_reg: 0.0057 (0.0124)  time: 0.4541  data: 0.2689  max mem: 1686\n",
      "Epoch: [0]  [194/219]  eta: 0:00:13  lr: 0.004473  loss: 0.3604 (0.6349)  loss_classifier: 0.0271 (0.0693)  loss_box_reg: 0.0496 (0.0728)  loss_mask: 0.2504 (0.4639)  loss_objectness: 0.0060 (0.0164)  loss_rpn_box_reg: 0.0057 (0.0126)  time: 0.4529  data: 0.2689  max mem: 1686\n",
      "Epoch: [0]  [195/219]  eta: 0:00:13  lr: 0.004496  loss: 0.3736 (0.6342)  loss_classifier: 0.0271 (0.0690)  loss_box_reg: 0.0496 (0.0726)  loss_mask: 0.2652 (0.4635)  loss_objectness: 0.0064 (0.0163)  loss_rpn_box_reg: 0.0057 (0.0128)  time: 0.4487  data: 0.2670  max mem: 1686\n",
      "Epoch: [0]  [196/219]  eta: 0:00:12  lr: 0.004519  loss: 0.3736 (0.6324)  loss_classifier: 0.0271 (0.0687)  loss_box_reg: 0.0496 (0.0724)  loss_mask: 0.2504 (0.4622)  loss_objectness: 0.0064 (0.0163)  loss_rpn_box_reg: 0.0057 (0.0128)  time: 0.4509  data: 0.2669  max mem: 1686\n",
      "Epoch: [0]  [197/219]  eta: 0:00:12  lr: 0.004542  loss: 0.3736 (0.6312)  loss_classifier: 0.0271 (0.0686)  loss_box_reg: 0.0497 (0.0725)  loss_mask: 0.2504 (0.4612)  loss_objectness: 0.0060 (0.0162)  loss_rpn_box_reg: 0.0057 (0.0128)  time: 0.4510  data: 0.2669  max mem: 1686\n",
      "Epoch: [0]  [198/219]  eta: 0:00:11  lr: 0.004565  loss: 0.3736 (0.6297)  loss_classifier: 0.0274 (0.0685)  loss_box_reg: 0.0513 (0.0725)  loss_mask: 0.2504 (0.4599)  loss_objectness: 0.0062 (0.0161)  loss_rpn_box_reg: 0.0060 (0.0127)  time: 0.4508  data: 0.2669  max mem: 1686\n",
      "Epoch: [0]  [199/219]  eta: 0:00:11  lr: 0.004588  loss: 0.3604 (0.6282)  loss_classifier: 0.0274 (0.0684)  loss_box_reg: 0.0513 (0.0725)  loss_mask: 0.2494 (0.4585)  loss_objectness: 0.0062 (0.0161)  loss_rpn_box_reg: 0.0057 (0.0127)  time: 0.4458  data: 0.2637  max mem: 1686\n",
      "Epoch: [0]  [200/219]  eta: 0:00:10  lr: 0.004610  loss: 0.3462 (0.6264)  loss_classifier: 0.0274 (0.0684)  loss_box_reg: 0.0497 (0.0724)  loss_mask: 0.2337 (0.4569)  loss_objectness: 0.0060 (0.0161)  loss_rpn_box_reg: 0.0057 (0.0127)  time: 0.4475  data: 0.2638  max mem: 1686\n",
      "Epoch: [0]  [201/219]  eta: 0:00:09  lr: 0.004633  loss: 0.3462 (0.6250)  loss_classifier: 0.0301 (0.0683)  loss_box_reg: 0.0497 (0.0724)  loss_mask: 0.2337 (0.4557)  loss_objectness: 0.0060 (0.0160)  loss_rpn_box_reg: 0.0057 (0.0126)  time: 0.4474  data: 0.2638  max mem: 1686\n",
      "Epoch: [0]  [202/219]  eta: 0:00:09  lr: 0.004656  loss: 0.3462 (0.6233)  loss_classifier: 0.0305 (0.0681)  loss_box_reg: 0.0497 (0.0722)  loss_mask: 0.2337 (0.4545)  loss_objectness: 0.0046 (0.0159)  loss_rpn_box_reg: 0.0057 (0.0126)  time: 0.4478  data: 0.2638  max mem: 1686\n",
      "Epoch: [0]  [203/219]  eta: 0:00:08  lr: 0.004679  loss: 0.3462 (0.6214)  loss_classifier: 0.0301 (0.0679)  loss_box_reg: 0.0496 (0.0720)  loss_mask: 0.2337 (0.4530)  loss_objectness: 0.0046 (0.0159)  loss_rpn_box_reg: 0.0057 (0.0125)  time: 0.4443  data: 0.2584  max mem: 1686\n",
      "Epoch: [0]  [204/219]  eta: 0:00:08  lr: 0.004702  loss: 0.3462 (0.6206)  loss_classifier: 0.0305 (0.0677)  loss_box_reg: 0.0463 (0.0718)  loss_mask: 0.2337 (0.4527)  loss_objectness: 0.0042 (0.0158)  loss_rpn_box_reg: 0.0057 (0.0125)  time: 0.4438  data: 0.2584  max mem: 1686\n",
      "Epoch: [0]  [205/219]  eta: 0:00:07  lr: 0.004725  loss: 0.3423 (0.6189)  loss_classifier: 0.0305 (0.0675)  loss_box_reg: 0.0496 (0.0717)  loss_mask: 0.2336 (0.4514)  loss_objectness: 0.0025 (0.0157)  loss_rpn_box_reg: 0.0057 (0.0125)  time: 0.4438  data: 0.2584  max mem: 1686\n",
      "Epoch: [0]  [206/219]  eta: 0:00:07  lr: 0.004748  loss: 0.3423 (0.6172)  loss_classifier: 0.0305 (0.0673)  loss_box_reg: 0.0496 (0.0716)  loss_mask: 0.2309 (0.4503)  loss_objectness: 0.0042 (0.0157)  loss_rpn_box_reg: 0.0057 (0.0124)  time: 0.5548  data: 0.3696  max mem: 1686\n",
      "Epoch: [0]  [207/219]  eta: 0:00:06  lr: 0.004771  loss: 0.3236 (0.6153)  loss_classifier: 0.0301 (0.0670)  loss_box_reg: 0.0463 (0.0714)  loss_mask: 0.2167 (0.4488)  loss_objectness: 0.0042 (0.0157)  loss_rpn_box_reg: 0.0057 (0.0124)  time: 0.4290  data: 0.2423  max mem: 1686\n",
      "Epoch: [0]  [208/219]  eta: 0:00:06  lr: 0.004794  loss: 0.3236 (0.6134)  loss_classifier: 0.0305 (0.0669)  loss_box_reg: 0.0458 (0.0712)  loss_mask: 0.2104 (0.4473)  loss_objectness: 0.0042 (0.0156)  loss_rpn_box_reg: 0.0057 (0.0124)  time: 0.4316  data: 0.2423  max mem: 1686\n",
      "Epoch: [0]  [209/219]  eta: 0:00:05  lr: 0.004817  loss: 0.3236 (0.6124)  loss_classifier: 0.0301 (0.0666)  loss_box_reg: 0.0458 (0.0709)  loss_mask: 0.2104 (0.4469)  loss_objectness: 0.0042 (0.0155)  loss_rpn_box_reg: 0.0057 (0.0124)  time: 0.4313  data: 0.2423  max mem: 1686\n",
      "Epoch: [0]  [210/219]  eta: 0:00:04  lr: 0.004840  loss: 0.3236 (0.6107)  loss_classifier: 0.0301 (0.0664)  loss_box_reg: 0.0458 (0.0707)  loss_mask: 0.2104 (0.4457)  loss_objectness: 0.0025 (0.0155)  loss_rpn_box_reg: 0.0057 (0.0123)  time: 0.4600  data: 0.2704  max mem: 1686\n",
      "Epoch: [0]  [211/219]  eta: 0:00:04  lr: 0.004863  loss: 0.3236 (0.6098)  loss_classifier: 0.0301 (0.0663)  loss_box_reg: 0.0458 (0.0707)  loss_mask: 0.2104 (0.4450)  loss_objectness: 0.0042 (0.0155)  loss_rpn_box_reg: 0.0057 (0.0123)  time: 0.4205  data: 0.2337  max mem: 1686\n",
      "Epoch: [0]  [212/219]  eta: 0:00:03  lr: 0.004885  loss: 0.3199 (0.6084)  loss_classifier: 0.0283 (0.0661)  loss_box_reg: 0.0457 (0.0706)  loss_mask: 0.2104 (0.4441)  loss_objectness: 0.0025 (0.0154)  loss_rpn_box_reg: 0.0057 (0.0123)  time: 0.4220  data: 0.2337  max mem: 1686\n",
      "Epoch: [0]  [213/219]  eta: 0:00:03  lr: 0.004908  loss: 0.2949 (0.6069)  loss_classifier: 0.0283 (0.0658)  loss_box_reg: 0.0418 (0.0705)  loss_mask: 0.2104 (0.4431)  loss_objectness: 0.0042 (0.0154)  loss_rpn_box_reg: 0.0055 (0.0122)  time: 0.4218  data: 0.2337  max mem: 1686\n",
      "Epoch: [0]  [214/219]  eta: 0:00:02  lr: 0.004931  loss: 0.2949 (0.6057)  loss_classifier: 0.0283 (0.0657)  loss_box_reg: 0.0408 (0.0703)  loss_mask: 0.2104 (0.4422)  loss_objectness: 0.0025 (0.0153)  loss_rpn_box_reg: 0.0050 (0.0122)  time: 0.4551  data: 0.2665  max mem: 1686\n",
      "Epoch: [0]  [215/219]  eta: 0:00:02  lr: 0.004954  loss: 0.2949 (0.6059)  loss_classifier: 0.0283 (0.0654)  loss_box_reg: 0.0408 (0.0702)  loss_mask: 0.2104 (0.4429)  loss_objectness: 0.0025 (0.0152)  loss_rpn_box_reg: 0.0050 (0.0122)  time: 0.4284  data: 0.2377  max mem: 1686\n",
      "Epoch: [0]  [216/219]  eta: 0:00:01  lr: 0.004977  loss: 0.2949 (0.6041)  loss_classifier: 0.0283 (0.0652)  loss_box_reg: 0.0418 (0.0701)  loss_mask: 0.2045 (0.4415)  loss_objectness: 0.0022 (0.0152)  loss_rpn_box_reg: 0.0050 (0.0121)  time: 0.4286  data: 0.2377  max mem: 1686\n",
      "Epoch: [0]  [217/219]  eta: 0:00:01  lr: 0.005000  loss: 0.2949 (0.6028)  loss_classifier: 0.0262 (0.0650)  loss_box_reg: 0.0408 (0.0700)  loss_mask: 0.2045 (0.4406)  loss_objectness: 0.0020 (0.0151)  loss_rpn_box_reg: 0.0050 (0.0121)  time: 0.4286  data: 0.2377  max mem: 1686\n",
      "Epoch: [0]  [218/219]  eta: 0:00:00  lr: 0.005000  loss: 0.2949 (0.6014)  loss_classifier: 0.0262 (0.0648)  loss_box_reg: 0.0408 (0.0698)  loss_mask: 0.2045 (0.4396)  loss_objectness: 0.0020 (0.0151)  loss_rpn_box_reg: 0.0039 (0.0120)  time: 0.4287  data: 0.2381  max mem: 1686\n",
      "Epoch: [0] Total time: 0:01:59 (0.5446 s / it)\n",
      "creating index...\n",
      "index created!\n",
      "Test:  [ 0/50]  eta: 0:00:12  model_time: 0.0942 (0.0942)  evaluator_time: 0.0100 (0.0100)  time: 0.2596  data: 0.1537  max mem: 1686\n",
      "Test:  [49/50]  eta: 0:00:00  model_time: 0.0841 (0.0824)  evaluator_time: 0.0046 (0.0043)  time: 0.0915  data: 0.0036  max mem: 1686\n",
      "Test: Total time: 0:00:04 (0.0954 s / it)\n",
      "Averaged stats: model_time: 0.0841 (0.0824)  evaluator_time: 0.0046 (0.0043)\n",
      "Accumulating evaluation results...\n",
      "DONE (t=0.01s).\n",
      "Accumulating evaluation results...\n",
      "DONE (t=0.01s).\n",
      "IoU metric: bbox\n",
      " Average Precision  (AP) @[ IoU=0.50:0.95 | area=   all | maxDets=100 ] = 0.433\n",
      " Average Precision  (AP) @[ IoU=0.50      | area=   all | maxDets=100 ] = 0.884\n",
      " Average Precision  (AP) @[ IoU=0.75      | area=   all | maxDets=100 ] = 0.306\n",
      " Average Precision  (AP) @[ IoU=0.50:0.95 | area= small | maxDets=100 ] = 0.384\n",
      " Average Precision  (AP) @[ IoU=0.50:0.95 | area=medium | maxDets=100 ] = 0.527\n",
      " Average Precision  (AP) @[ IoU=0.50:0.95 | area= large | maxDets=100 ] = 0.287\n",
      " Average Recall     (AR) @[ IoU=0.50:0.95 | area=   all | maxDets=  1 ] = 0.486\n",
      " Average Recall     (AR) @[ IoU=0.50:0.95 | area=   all | maxDets= 10 ] = 0.520\n",
      " Average Recall     (AR) @[ IoU=0.50:0.95 | area=   all | maxDets=100 ] = 0.520\n",
      " Average Recall     (AR) @[ IoU=0.50:0.95 | area= small | maxDets=100 ] = 0.470\n",
      " Average Recall     (AR) @[ IoU=0.50:0.95 | area=medium | maxDets=100 ] = 0.595\n",
      " Average Recall     (AR) @[ IoU=0.50:0.95 | area= large | maxDets=100 ] = 0.400\n",
      "IoU metric: segm\n",
      " Average Precision  (AP) @[ IoU=0.50:0.95 | area=   all | maxDets=100 ] = 0.066\n",
      " Average Precision  (AP) @[ IoU=0.50      | area=   all | maxDets=100 ] = 0.456\n",
      " Average Precision  (AP) @[ IoU=0.75      | area=   all | maxDets=100 ] = 0.000\n",
      " Average Precision  (AP) @[ IoU=0.50:0.95 | area= small | maxDets=100 ] = 0.064\n",
      " Average Precision  (AP) @[ IoU=0.50:0.95 | area=medium | maxDets=100 ] = 0.062\n",
      " Average Precision  (AP) @[ IoU=0.50:0.95 | area= large | maxDets=100 ] = 0.383\n",
      " Average Recall     (AR) @[ IoU=0.50:0.95 | area=   all | maxDets=  1 ] = 0.120\n",
      " Average Recall     (AR) @[ IoU=0.50:0.95 | area=   all | maxDets= 10 ] = 0.150\n",
      " Average Recall     (AR) @[ IoU=0.50:0.95 | area=   all | maxDets=100 ] = 0.150\n",
      " Average Recall     (AR) @[ IoU=0.50:0.95 | area= small | maxDets=100 ] = 0.152\n",
      " Average Recall     (AR) @[ IoU=0.50:0.95 | area=medium | maxDets=100 ] = 0.124\n",
      " Average Recall     (AR) @[ IoU=0.50:0.95 | area= large | maxDets=100 ] = 0.400\n"
     ]
    }
   ],
   "source": [
    "# let's train\n",
    "num_epochs = 1\n",
    "\n",
    "for epoch in range(num_epochs):\n",
    "    # train for one epoch, printing every print_freq iterations\n",
    "    train_one_epoch(model, optimizer, data_loader, device, epoch, print_freq=1)\n",
    "    # update the learning rate\n",
    "    lr_scheduler.step()\n",
    "    # evaluate on the test dataset\n",
    "    evaluate(model, data_loader_test, device=device)"
   ]
  },
  {
   "cell_type": "code",
   "execution_count": 15,
   "metadata": {
    "executionInfo": {
     "elapsed": 271007,
     "status": "ok",
     "timestamp": 1618752360973,
     "user": {
      "displayName": "Julian Kozak",
      "photoUrl": "",
      "userId": "07976158460920386367"
     },
     "user_tz": -120
    },
    "id": "fZ3N1jDvFtYl"
   },
   "outputs": [],
   "source": [
    "import os\n",
    "# save model's state dictionary to google drive\n",
    "utils.mkdir(\"saved_state\")\n",
    "torch.save(model.state_dict(), 'saved_state/model_state_dict.pt')\n",
    "torch.save(optimizer.state_dict(), 'saved_state/optimizer_state_dict.pt')"
   ]
  },
  {
   "cell_type": "code",
   "execution_count": 16,
   "metadata": {
    "executionInfo": {
     "elapsed": 270995,
     "status": "ok",
     "timestamp": 1618752360980,
     "user": {
      "displayName": "Julian Kozak",
      "photoUrl": "",
      "userId": "07976158460920386367"
     },
     "user_tz": -120
    },
    "id": "SuERIkjME3Qo"
   },
   "outputs": [],
   "source": [
    "# pick one image from the test set\n",
    "img, _ = dataset_test[19]\n",
    "# put the model in evaluation mode\n",
    "model.eval()\n",
    "with torch.no_grad():\n",
    "    prediction = model([img.to(device)])"
   ]
  },
  {
   "cell_type": "code",
   "execution_count": 17,
   "metadata": {
    "colab": {
     "base_uri": "https://localhost:8080/",
     "height": 239
    },
    "executionInfo": {
     "elapsed": 270984,
     "status": "ok",
     "timestamp": 1618752360984,
     "user": {
      "displayName": "Julian Kozak",
      "photoUrl": "",
      "userId": "07976158460920386367"
     },
     "user_tz": -120
    },
    "id": "M1A1zyOTF48q",
    "outputId": "4cd7f599-c722-4d89-d0c8-a1751035d85a"
   },
   "outputs": [
    {
     "data": {
      "image/png": "[encoded data removed]",
      "text/plain": [
       "<PIL.Image.Image image mode=L size=400x222 at 0x7F3DC17B8CD0>"
      ]
     },
     "execution_count": 17,
     "metadata": {
      "tags": []
     },
     "output_type": "execute_result"
    }
   ],
   "source": [
    "Image.fromarray(prediction[0]['masks'][0, 0].mul(255).byte().cpu().numpy())"
   ]
  },
  {
   "cell_type": "code",
   "execution_count": 18,
   "metadata": {
    "colab": {
     "base_uri": "https://localhost:8080/",
     "height": 239
    },
    "executionInfo": {
     "elapsed": 270953,
     "status": "ok",
     "timestamp": 1618752360985,
     "user": {
      "displayName": "Julian Kozak",
      "photoUrl": "",
      "userId": "07976158460920386367"
     },
     "user_tz": -120
    },
    "id": "LOLBAJPVUnYQ",
    "outputId": "2c5e803d-3f14-447a-f014-368b2558016d"
   },
   "outputs": [
    {
     "data": {
      "image/png": "[encoded data removed]",
      "text/plain": [
       "<PIL.Image.Image image mode=RGB size=400x222 at 0x7F3DC17B8210>"
      ]
     },
     "execution_count": 18,
     "metadata": {
      "tags": []
     },
     "output_type": "execute_result"
    }
   ],
   "source": [
    "Image.fromarray(img.mul(255).permute(1, 2, 0).byte().numpy())"
   ]
  },
  {
   "cell_type": "code",
   "execution_count": 18,
   "metadata": {
    "executionInfo": {
     "elapsed": 270942,
     "status": "ok",
     "timestamp": 1618752360985,
     "user": {
      "displayName": "Julian Kozak",
      "photoUrl": "",
      "userId": "07976158460920386367"
     },
     "user_tz": -120
    },
    "id": "NMkAkwSCXJQB"
   },
   "outputs": [],
   "source": []
  }
 ],
 "metadata": {
  "accelerator": "GPU",
  "colab": {
   "collapsed_sections": [],
   "name": "train_model_v1.1.ipynb",
   "provenance": [
    {
     "file_id": "1tdnpaUq3mDvOVZkMp5mXHl-HNscULXvM",
     "timestamp": 1618691218851
    }
   ]
  },
  "kernelspec": {
   "display_name": "Python 3",
   "language": "python",
   "name": "python3"
  },
  "language_info": {
   "codemirror_mode": {
    "name": "ipython",
    "version": 3
   },
   "file_extension": ".py",
   "mimetype": "text/x-python",
   "name": "python",
   "nbconvert_exporter": "python",
   "pygments_lexer": "ipython3",
   "version": "3.8.5"
  },
  "widgets": {
   "application/vnd.jupyter.widget-state+json": {
    "169a019c8baa437691b29edb01f6a4da": {
     "model_module": "@jupyter-widgets/controls",
     "model_name": "FloatProgressModel",
     "state": {
      "_dom_classes": [],
      "_model_module": "@jupyter-widgets/controls",
      "_model_module_version": "1.5.0",
      "_model_name": "FloatProgressModel",
      "_view_count": null,
      "_view_module": "@jupyter-widgets/controls",
      "_view_module_version": "1.5.0",
      "_view_name": "ProgressView",
      "bar_style": "success",
      "description": "100%",
      "description_tooltip": null,
      "layout": "IPY_MODEL_3ce3accf5bd840cea09a63c6089db237",
      "max": 178090079,
      "min": 0,
      "orientation": "horizontal",
      "style": "IPY_MODEL_29fcf31482d145a99274235f2df5153d",
      "value": 178090079
     }
    },
    "29fcf31482d145a99274235f2df5153d": {
     "model_module": "@jupyter-widgets/controls",
     "model_name": "ProgressStyleModel",
     "state": {
      "_model_module": "@jupyter-widgets/controls",
      "_model_module_version": "1.5.0",
      "_model_name": "ProgressStyleModel",
      "_view_count": null,
      "_view_module": "@jupyter-widgets/base",
      "_view_module_version": "1.2.0",
      "_view_name": "StyleView",
      "bar_color": null,
      "description_width": "initial"
     }
    },
    "3ce3accf5bd840cea09a63c6089db237": {
     "model_module": "@jupyter-widgets/base",
     "model_name": "LayoutModel",
     "state": {
      "_model_module": "@jupyter-widgets/base",
      "_model_module_version": "1.2.0",
      "_model_name": "LayoutModel",
      "_view_count": null,
      "_view_module": "@jupyter-widgets/base",
      "_view_module_version": "1.2.0",
      "_view_name": "LayoutView",
      "align_content": null,
      "align_items": null,
      "align_self": null,
      "border": null,
      "bottom": null,
      "display": null,
      "flex": null,
      "flex_flow": null,
      "grid_area": null,
      "grid_auto_columns": null,
      "grid_auto_flow": null,
      "grid_auto_rows": null,
      "grid_column": null,
      "grid_gap": null,
      "grid_row": null,
      "grid_template_areas": null,
      "grid_template_columns": null,
      "grid_template_rows": null,
      "height": null,
      "justify_content": null,
      "justify_items": null,
      "left": null,
      "margin": null,
      "max_height": null,
      "max_width": null,
      "min_height": null,
      "min_width": null,
      "object_fit": null,
      "object_position": null,
      "order": null,
      "overflow": null,
      "overflow_x": null,
      "overflow_y": null,
      "padding": null,
      "right": null,
      "top": null,
      "visibility": null,
      "width": null
     }
    },
    "71be00e8c6c74521aff8380f7655a30b": {
     "model_module": "@jupyter-widgets/controls",
     "model_name": "HBoxModel",
     "state": {
      "_dom_classes": [],
      "_model_module": "@jupyter-widgets/controls",
      "_model_module_version": "1.5.0",
      "_model_name": "HBoxModel",
      "_view_count": null,
      "_view_module": "@jupyter-widgets/controls",
      "_view_module_version": "1.5.0",
      "_view_name": "HBoxView",
      "box_style": "",
      "children": [
       "IPY_MODEL_169a019c8baa437691b29edb01f6a4da",
       "IPY_MODEL_fe111e625fd54ace8916ac61ee1343f3"
      ],
      "layout": "IPY_MODEL_e587a2c0776842a583382aa9b0008d08"
     }
    },
    "9f823377ecb44eb497af781aeeaf084c": {
     "model_module": "@jupyter-widgets/controls",
     "model_name": "DescriptionStyleModel",
     "state": {
      "_model_module": "@jupyter-widgets/controls",
      "_model_module_version": "1.5.0",
      "_model_name": "DescriptionStyleModel",
      "_view_count": null,
      "_view_module": "@jupyter-widgets/base",
      "_view_module_version": "1.2.0",
      "_view_name": "StyleView",
      "description_width": ""
     }
    },
    "bb39125e06ad42988b6f6ede80c756f7": {
     "model_module": "@jupyter-widgets/base",
     "model_name": "LayoutModel",
     "state": {
      "_model_module": "@jupyter-widgets/base",
      "_model_module_version": "1.2.0",
      "_model_name": "LayoutModel",
      "_view_count": null,
      "_view_module": "@jupyter-widgets/base",
      "_view_module_version": "1.2.0",
      "_view_name": "LayoutView",
      "align_content": null,
      "align_items": null,
      "align_self": null,
      "border": null,
      "bottom": null,
      "display": null,
      "flex": null,
      "flex_flow": null,
      "grid_area": null,
      "grid_auto_columns": null,
      "grid_auto_flow": null,
      "grid_auto_rows": null,
      "grid_column": null,
      "grid_gap": null,
      "grid_row": null,
      "grid_template_areas": null,
      "grid_template_columns": null,
      "grid_template_rows": null,
      "height": null,
      "justify_content": null,
      "justify_items": null,
      "left": null,
      "margin": null,
      "max_height": null,
      "max_width": null,
      "min_height": null,
      "min_width": null,
      "object_fit": null,
      "object_position": null,
      "order": null,
      "overflow": null,
      "overflow_x": null,
      "overflow_y": null,
      "padding": null,
      "right": null,
      "top": null,
      "visibility": null,
      "width": null
     }
    },
    "e587a2c0776842a583382aa9b0008d08": {
     "model_module": "@jupyter-widgets/base",
     "model_name": "LayoutModel",
     "state": {
      "_model_module": "@jupyter-widgets/base",
      "_model_module_version": "1.2.0",
      "_model_name": "LayoutModel",
      "_view_count": null,
      "_view_module": "@jupyter-widgets/base",
      "_view_module_version": "1.2.0",
      "_view_name": "LayoutView",
      "align_content": null,
      "align_items": null,
      "align_self": null,
      "border": null,
      "bottom": null,
      "display": null,
      "flex": null,
      "flex_flow": null,
      "grid_area": null,
      "grid_auto_columns": null,
      "grid_auto_flow": null,
      "grid_auto_rows": null,
      "grid_column": null,
      "grid_gap": null,
      "grid_row": null,
      "grid_template_areas": null,
      "grid_template_columns": null,
      "grid_template_rows": null,
      "height": null,
      "justify_content": null,
      "justify_items": null,
      "left": null,
      "margin": null,
      "max_height": null,
      "max_width": null,
      "min_height": null,
      "min_width": null,
      "object_fit": null,
      "object_position": null,
      "order": null,
      "overflow": null,
      "overflow_x": null,
      "overflow_y": null,
      "padding": null,
      "right": null,
      "top": null,
      "visibility": null,
      "width": null
     }
    },
    "fe111e625fd54ace8916ac61ee1343f3": {
     "model_module": "@jupyter-widgets/controls",
     "model_name": "HTMLModel",
     "state": {
      "_dom_classes": [],
      "_model_module": "@jupyter-widgets/controls",
      "_model_module_version": "1.5.0",
      "_model_name": "HTMLModel",
      "_view_count": null,
      "_view_module": "@jupyter-widgets/controls",
      "_view_module_version": "1.5.0",
      "_view_name": "HTMLView",
      "description": "",
      "description_tooltip": null,
      "layout": "IPY_MODEL_bb39125e06ad42988b6f6ede80c756f7",
      "placeholder": "​",
      "style": "IPY_MODEL_9f823377ecb44eb497af781aeeaf084c",
      "value": " 170M/170M [00:00&lt;00:00, 197MB/s]"
     }
    }
   }
  }
 },
 "nbformat": 4,
 "nbformat_minor": 1
}
